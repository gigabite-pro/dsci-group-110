{
 "cells": [
  {
   "cell_type": "markdown",
   "id": "bda34852",
   "metadata": {},
   "source": [
    "# Predicting Angiographic Disease Status"
   ]
  },
  {
   "cell_type": "markdown",
   "id": "d7e79122",
   "metadata": {},
   "source": [
    "# Introduction\n",
    "With the advent of globalisation, we have seen an exponential improvement in the quality of life for people globally. Inventions from plastics and the internet have revolutionised the way human society functions. With globalisation, we saw both industrialisation and innovations in food technology. But, like everything, this has positively and negatively impacted human life. \n",
    "\n",
    "In our modern times, we have witnessed exorbitant increases in the prevalence rates of diseases fueled by unhealthy lifestyles, which have long-lasting effects on people's lives.\n",
    "\n",
    "Angiographic disease refers to a condition which is associated with blood vessels and blood flow through these vessels. With this project, we are analysing the *processed.cleveland.data* file and using the data to predict the type of chest pain an individual has in the event the individual is sick.\n",
    "\n",
    "Chest pains are classified into the four following types:\n",
    "1. Typical angina\n",
    "2. Atypical angina\n",
    "3. Non-anginal pain\n",
    "4. Asymptomatic"
   ]
  },
  {
   "cell_type": "markdown",
   "id": "ce0af211",
   "metadata": {
    "tags": []
   },
   "source": [
    "# Methods & Results"
   ]
  },
  {
   "cell_type": "markdown",
   "id": "ae5bbc23-d36f-4733-9506-6cae3ddc1990",
   "metadata": {},
   "source": [
    "The first step of all is to load the libraries."
   ]
  },
  {
   "cell_type": "code",
   "execution_count": 1,
   "id": "02afc5e4",
   "metadata": {
    "tags": []
   },
   "outputs": [
    {
     "name": "stderr",
     "output_type": "stream",
     "text": [
      "── \u001b[1mAttaching packages\u001b[22m ─────────────────────────────────────── tidyverse 1.3.1 ──\n",
      "\n",
      "\u001b[32m✔\u001b[39m \u001b[34mggplot2\u001b[39m 3.3.6     \u001b[32m✔\u001b[39m \u001b[34mpurrr  \u001b[39m 0.3.4\n",
      "\u001b[32m✔\u001b[39m \u001b[34mtibble \u001b[39m 3.1.7     \u001b[32m✔\u001b[39m \u001b[34mdplyr  \u001b[39m 1.0.9\n",
      "\u001b[32m✔\u001b[39m \u001b[34mtidyr  \u001b[39m 1.2.0     \u001b[32m✔\u001b[39m \u001b[34mstringr\u001b[39m 1.4.0\n",
      "\u001b[32m✔\u001b[39m \u001b[34mreadr  \u001b[39m 2.1.2     \u001b[32m✔\u001b[39m \u001b[34mforcats\u001b[39m 0.5.1\n",
      "\n",
      "── \u001b[1mConflicts\u001b[22m ────────────────────────────────────────── tidyverse_conflicts() ──\n",
      "\u001b[31m✖\u001b[39m \u001b[34mdplyr\u001b[39m::\u001b[32mfilter()\u001b[39m masks \u001b[34mstats\u001b[39m::filter()\n",
      "\u001b[31m✖\u001b[39m \u001b[34mdplyr\u001b[39m::\u001b[32mlag()\u001b[39m    masks \u001b[34mstats\u001b[39m::lag()\n",
      "\n",
      "\n",
      "Attaching package: ‘testthat’\n",
      "\n",
      "\n",
      "The following object is masked from ‘package:dplyr’:\n",
      "\n",
      "    matches\n",
      "\n",
      "\n",
      "The following object is masked from ‘package:purrr’:\n",
      "\n",
      "    is_null\n",
      "\n",
      "\n",
      "The following objects are masked from ‘package:readr’:\n",
      "\n",
      "    edition_get, local_edition\n",
      "\n",
      "\n",
      "The following object is masked from ‘package:tidyr’:\n",
      "\n",
      "    matches\n",
      "\n",
      "\n",
      "── \u001b[1mAttaching packages\u001b[22m ────────────────────────────────────── tidymodels 1.0.0 ──\n",
      "\n",
      "\u001b[32m✔\u001b[39m \u001b[34mbroom       \u001b[39m 1.0.0     \u001b[32m✔\u001b[39m \u001b[34mrsample     \u001b[39m 1.0.0\n",
      "\u001b[32m✔\u001b[39m \u001b[34mdials       \u001b[39m 1.0.0     \u001b[32m✔\u001b[39m \u001b[34mtune        \u001b[39m 1.0.0\n",
      "\u001b[32m✔\u001b[39m \u001b[34minfer       \u001b[39m 1.0.2     \u001b[32m✔\u001b[39m \u001b[34mworkflows   \u001b[39m 1.0.0\n",
      "\u001b[32m✔\u001b[39m \u001b[34mmodeldata   \u001b[39m 1.0.0     \u001b[32m✔\u001b[39m \u001b[34mworkflowsets\u001b[39m 1.0.0\n",
      "\u001b[32m✔\u001b[39m \u001b[34mparsnip     \u001b[39m 1.0.0     \u001b[32m✔\u001b[39m \u001b[34myardstick   \u001b[39m 1.0.0\n",
      "\u001b[32m✔\u001b[39m \u001b[34mrecipes     \u001b[39m 1.0.1     \n",
      "\n",
      "── \u001b[1mConflicts\u001b[22m ───────────────────────────────────────── tidymodels_conflicts() ──\n",
      "\u001b[31m✖\u001b[39m \u001b[34mscales\u001b[39m::\u001b[32mdiscard()\u001b[39m   masks \u001b[34mpurrr\u001b[39m::discard()\n",
      "\u001b[31m✖\u001b[39m \u001b[34mdplyr\u001b[39m::\u001b[32mfilter()\u001b[39m     masks \u001b[34mstats\u001b[39m::filter()\n",
      "\u001b[31m✖\u001b[39m \u001b[34mrecipes\u001b[39m::\u001b[32mfixed()\u001b[39m    masks \u001b[34mstringr\u001b[39m::fixed()\n",
      "\u001b[31m✖\u001b[39m \u001b[34mtestthat\u001b[39m::\u001b[32mis_null()\u001b[39m masks \u001b[34mpurrr\u001b[39m::is_null()\n",
      "\u001b[31m✖\u001b[39m \u001b[34mdplyr\u001b[39m::\u001b[32mlag()\u001b[39m        masks \u001b[34mstats\u001b[39m::lag()\n",
      "\u001b[31m✖\u001b[39m \u001b[34mrsample\u001b[39m::\u001b[32mmatches()\u001b[39m  masks \u001b[34mtestthat\u001b[39m::matches(), \u001b[34mdplyr\u001b[39m::matches(), \u001b[34mtidyr\u001b[39m::matches()\n",
      "\u001b[31m✖\u001b[39m \u001b[34myardstick\u001b[39m::\u001b[32mspec()\u001b[39m   masks \u001b[34mreadr\u001b[39m::spec()\n",
      "\u001b[31m✖\u001b[39m \u001b[34mrecipes\u001b[39m::\u001b[32mstep()\u001b[39m     masks \u001b[34mstats\u001b[39m::step()\n",
      "\u001b[34m•\u001b[39m Use suppressPackageStartupMessages() to eliminate package startup messages\n",
      "\n"
     ]
    }
   ],
   "source": [
    "# Importing Necessary Libraries\n",
    "library(tidyverse)\n",
    "library(testthat)\n",
    "library(digest)\n",
    "library(repr)\n",
    "library(tidymodels)"
   ]
  },
  {
   "cell_type": "markdown",
   "id": "554d31e9-8cc9-484a-aef6-28b43e4a1e83",
   "metadata": {},
   "source": [
    "After we loaded the libraries, we got the data from an URL provided by the website given by DSCI100. And used read_csv to load the data. We also took a look at the data using the function \"glimpse\" because it's a data with a lot of columns."
   ]
  },
  {
   "cell_type": "code",
   "execution_count": 2,
   "id": "171b9658",
   "metadata": {
    "tags": []
   },
   "outputs": [
    {
     "name": "stderr",
     "output_type": "stream",
     "text": [
      "\u001b[1mRows: \u001b[22m\u001b[34m303\u001b[39m \u001b[1mColumns: \u001b[22m\u001b[34m14\u001b[39m\n",
      "\u001b[36m──\u001b[39m \u001b[1mColumn specification\u001b[22m \u001b[36m────────────────────────────────────────────────────────\u001b[39m\n",
      "\u001b[1mDelimiter:\u001b[22m \",\"\n",
      "\u001b[31mchr\u001b[39m  (2): X12, X13\n",
      "\u001b[32mdbl\u001b[39m (12): X1, X2, X3, X4, X5, X6, X7, X8, X9, X10, X11, X14\n",
      "\n",
      "\u001b[36mℹ\u001b[39m Use `spec()` to retrieve the full column specification for this data.\n",
      "\u001b[36mℹ\u001b[39m Specify the column types or set `show_col_types = FALSE` to quiet this message.\n"
     ]
    },
    {
     "name": "stdout",
     "output_type": "stream",
     "text": [
      "Rows: 303\n",
      "Columns: 14\n",
      "$ X1  \u001b[3m\u001b[90m<dbl>\u001b[39m\u001b[23m 63, 67, 67, 37, 41, 56, 62, 57, 63, 53, 57, 56, 56, 44, 52, 57, 48…\n",
      "$ X2  \u001b[3m\u001b[90m<dbl>\u001b[39m\u001b[23m 1, 1, 1, 1, 0, 1, 0, 0, 1, 1, 1, 0, 1, 1, 1, 1, 1, 1, 0, 1, 1, 0, …\n",
      "$ X3  \u001b[3m\u001b[90m<dbl>\u001b[39m\u001b[23m 1, 4, 4, 3, 2, 2, 4, 4, 4, 4, 4, 2, 3, 2, 3, 3, 2, 4, 3, 2, 1, 1, …\n",
      "$ X4  \u001b[3m\u001b[90m<dbl>\u001b[39m\u001b[23m 145, 160, 120, 130, 130, 120, 140, 120, 130, 140, 140, 140, 130, 1…\n",
      "$ X5  \u001b[3m\u001b[90m<dbl>\u001b[39m\u001b[23m 233, 286, 229, 250, 204, 236, 268, 354, 254, 203, 192, 294, 256, 2…\n",
      "$ X6  \u001b[3m\u001b[90m<dbl>\u001b[39m\u001b[23m 1, 0, 0, 0, 0, 0, 0, 0, 0, 1, 0, 0, 1, 0, 1, 0, 0, 0, 0, 0, 0, 1, …\n",
      "$ X7  \u001b[3m\u001b[90m<dbl>\u001b[39m\u001b[23m 2, 2, 2, 0, 2, 0, 2, 0, 2, 2, 0, 2, 2, 0, 0, 0, 0, 0, 0, 0, 2, 2, …\n",
      "$ X8  \u001b[3m\u001b[90m<dbl>\u001b[39m\u001b[23m 150, 108, 129, 187, 172, 178, 160, 163, 147, 155, 148, 153, 142, 1…\n",
      "$ X9  \u001b[3m\u001b[90m<dbl>\u001b[39m\u001b[23m 0, 1, 1, 0, 0, 0, 0, 1, 0, 1, 0, 0, 1, 0, 0, 0, 0, 0, 0, 0, 1, 0, …\n",
      "$ X10 \u001b[3m\u001b[90m<dbl>\u001b[39m\u001b[23m 2.3, 1.5, 2.6, 3.5, 1.4, 0.8, 3.6, 0.6, 1.4, 3.1, 0.4, 1.3, 0.6, 0…\n",
      "$ X11 \u001b[3m\u001b[90m<dbl>\u001b[39m\u001b[23m 3, 2, 2, 3, 1, 1, 3, 1, 2, 3, 2, 2, 2, 1, 1, 1, 3, 1, 1, 1, 2, 1, …\n",
      "$ X12 \u001b[3m\u001b[90m<chr>\u001b[39m\u001b[23m \"0.0\", \"3.0\", \"2.0\", \"0.0\", \"0.0\", \"0.0\", \"2.0\", \"0.0\", \"1.0\", \"0.…\n",
      "$ X13 \u001b[3m\u001b[90m<chr>\u001b[39m\u001b[23m \"6.0\", \"3.0\", \"7.0\", \"3.0\", \"3.0\", \"3.0\", \"3.0\", \"3.0\", \"7.0\", \"7.…\n",
      "$ X14 \u001b[3m\u001b[90m<dbl>\u001b[39m\u001b[23m 0, 2, 1, 0, 0, 0, 3, 0, 2, 1, 0, 0, 2, 0, 0, 0, 1, 0, 0, 0, 0, 0, …\n"
     ]
    }
   ],
   "source": [
    "# Loadind Data\n",
    "url <- \"https://archive.ics.uci.edu/ml/machine-learning-databases/heart-disease/processed.cleveland.data\"\n",
    "heart_disease_data <- read_csv(url, \n",
    "                               col_names = FALSE)\n",
    "\n",
    "# Covering Data Frame To Tibble\n",
    "heart_disease_data <- as_tibble(heart_disease_data)\n",
    "\n",
    "# Checking Data Frame\n",
    "glimpse(heart_disease_data)"
   ]
  },
  {
   "cell_type": "markdown",
   "id": "6863b6f3-0d3c-4d9b-acaa-5d52da23cc4d",
   "metadata": {},
   "source": [
    "Now we can see that this data is really untidy, and the first step to tackel this is by renaming the column name\n",
    "with the name given by the original website. We also noticed that some of the columns are factors but represented\n",
    "by character or double, so we convert it to factor using \"as.factor\"."
   ]
  },
  {
   "cell_type": "code",
   "execution_count": 3,
   "id": "de909e10",
   "metadata": {
    "tags": []
   },
   "outputs": [
    {
     "name": "stdout",
     "output_type": "stream",
     "text": [
      "Rows: 303\n",
      "Columns: 14\n",
      "$ age      \u001b[3m\u001b[90m<dbl>\u001b[39m\u001b[23m 63, 67, 67, 37, 41, 56, 62, 57, 63, 53, 57, 56, 56, 44, 52, 5…\n",
      "$ sex      \u001b[3m\u001b[90m<fct>\u001b[39m\u001b[23m 1, 1, 1, 1, 0, 1, 0, 0, 1, 1, 1, 0, 1, 1, 1, 1, 1, 1, 0, 1, 1…\n",
      "$ cp       \u001b[3m\u001b[90m<fct>\u001b[39m\u001b[23m 1, 4, 4, 3, 2, 2, 4, 4, 4, 4, 4, 2, 3, 2, 3, 3, 2, 4, 3, 2, 1…\n",
      "$ trestbps \u001b[3m\u001b[90m<dbl>\u001b[39m\u001b[23m 145, 160, 120, 130, 130, 120, 140, 120, 130, 140, 140, 140, 1…\n",
      "$ chol     \u001b[3m\u001b[90m<dbl>\u001b[39m\u001b[23m 233, 286, 229, 250, 204, 236, 268, 354, 254, 203, 192, 294, 2…\n",
      "$ fbs      \u001b[3m\u001b[90m<fct>\u001b[39m\u001b[23m 1, 0, 0, 0, 0, 0, 0, 0, 0, 1, 0, 0, 1, 0, 1, 0, 0, 0, 0, 0, 0…\n",
      "$ restecg  \u001b[3m\u001b[90m<fct>\u001b[39m\u001b[23m 2, 2, 2, 0, 2, 0, 2, 0, 2, 2, 0, 2, 2, 0, 0, 0, 0, 0, 0, 0, 2…\n",
      "$ thalach  \u001b[3m\u001b[90m<dbl>\u001b[39m\u001b[23m 150, 108, 129, 187, 172, 178, 160, 163, 147, 155, 148, 153, 1…\n",
      "$ exang    \u001b[3m\u001b[90m<fct>\u001b[39m\u001b[23m 0, 1, 1, 0, 0, 0, 0, 1, 0, 1, 0, 0, 1, 0, 0, 0, 0, 0, 0, 0, 1…\n",
      "$ oldpeak  \u001b[3m\u001b[90m<dbl>\u001b[39m\u001b[23m 2.3, 1.5, 2.6, 3.5, 1.4, 0.8, 3.6, 0.6, 1.4, 3.1, 0.4, 1.3, 0…\n",
      "$ slope    \u001b[3m\u001b[90m<fct>\u001b[39m\u001b[23m 3, 2, 2, 3, 1, 1, 3, 1, 2, 3, 2, 2, 2, 1, 1, 1, 3, 1, 1, 1, 2…\n",
      "$ ca       \u001b[3m\u001b[90m<fct>\u001b[39m\u001b[23m 0.0, 3.0, 2.0, 0.0, 0.0, 0.0, 2.0, 0.0, 1.0, 0.0, 0.0, 0.0, 1…\n",
      "$ thal     \u001b[3m\u001b[90m<fct>\u001b[39m\u001b[23m 6.0, 3.0, 7.0, 3.0, 3.0, 3.0, 3.0, 3.0, 7.0, 7.0, 6.0, 3.0, 6…\n",
      "$ num      \u001b[3m\u001b[90m<fct>\u001b[39m\u001b[23m 0, 2, 1, 0, 0, 0, 3, 0, 2, 1, 0, 0, 2, 0, 0, 0, 1, 0, 0, 0, 0…\n"
     ]
    }
   ],
   "source": [
    "# Preprocessing Of Data\n",
    "heart_disease_data_factored <- heart_disease_data |>\n",
    "                        mutate(X2  = as.factor(X2) ,\n",
    "                               X3  = as.factor(X3) ,\n",
    "                               X6  = as.factor(X6) ,\n",
    "                               X7  = as.factor(X7) ,\n",
    "                               X9  = as.factor(X9) ,\n",
    "                               X11 = as.factor(X11),\n",
    "                               X12 = as.factor(X12),\n",
    "                               X13 = as.factor(X13),\n",
    "                               X14 = as.factor(X14))\n",
    "\n",
    "heart_disease_data_renamed <- rename(heart_disease_data_factored,\n",
    "       age = X1, \n",
    "       sex = X2, \n",
    "       cp = X3,\n",
    "       trestbps = X4, \n",
    "       chol = X5, \n",
    "       fbs = X6,\n",
    "       restecg = X7,\n",
    "       thalach = X8,\n",
    "       exang = X9,\n",
    "       oldpeak = X10,\n",
    "       slope = X11,\n",
    "       ca = X12,\n",
    "       thal = X13,\n",
    "       num = X14)\n",
    "#cleaning data\n",
    "glimpse(heart_disease_data_renamed)"
   ]
  },
  {
   "cell_type": "code",
   "execution_count": 4,
   "id": "c19747bf-85bf-43c7-87e2-7d8f03265b4c",
   "metadata": {
    "tags": []
   },
   "outputs": [
    {
     "data": {
      "text/html": [
       "<table class=\"dataframe\">\n",
       "<caption>A tibble: 4 × 3</caption>\n",
       "<thead>\n",
       "\t<tr><th scope=col>cp</th><th scope=col>count</th><th scope=col>percentage</th></tr>\n",
       "\t<tr><th scope=col>&lt;fct&gt;</th><th scope=col>&lt;int&gt;</th><th scope=col>&lt;dbl&gt;</th></tr>\n",
       "</thead>\n",
       "<tbody>\n",
       "\t<tr><td>1</td><td> 23</td><td> 7.590759</td></tr>\n",
       "\t<tr><td>2</td><td> 50</td><td>16.501650</td></tr>\n",
       "\t<tr><td>3</td><td> 85</td><td>28.052805</td></tr>\n",
       "\t<tr><td>4</td><td>144</td><td>47.524752</td></tr>\n",
       "</tbody>\n",
       "</table>\n"
      ],
      "text/latex": [
       "A tibble: 4 × 3\n",
       "\\begin{tabular}{lll}\n",
       " cp & count & percentage\\\\\n",
       " <fct> & <int> & <dbl>\\\\\n",
       "\\hline\n",
       "\t 1 &  23 &  7.590759\\\\\n",
       "\t 2 &  50 & 16.501650\\\\\n",
       "\t 3 &  85 & 28.052805\\\\\n",
       "\t 4 & 144 & 47.524752\\\\\n",
       "\\end{tabular}\n"
      ],
      "text/markdown": [
       "\n",
       "A tibble: 4 × 3\n",
       "\n",
       "| cp &lt;fct&gt; | count &lt;int&gt; | percentage &lt;dbl&gt; |\n",
       "|---|---|---|\n",
       "| 1 |  23 |  7.590759 |\n",
       "| 2 |  50 | 16.501650 |\n",
       "| 3 |  85 | 28.052805 |\n",
       "| 4 | 144 | 47.524752 |\n",
       "\n"
      ],
      "text/plain": [
       "  cp count percentage\n",
       "1 1   23    7.590759 \n",
       "2 2   50   16.501650 \n",
       "3 3   85   28.052805 \n",
       "4 4  144   47.524752 "
      ]
     },
     "metadata": {},
     "output_type": "display_data"
    }
   ],
   "source": [
    "#Showing row count for each chest pain type\n",
    "num_obs <- nrow(heart_disease_data_renamed)\n",
    "total_proportion <- heart_disease_data_renamed |>\n",
    "slice(1:302) |>\n",
    "  group_by(cp) |>\n",
    "  summarize(\n",
    "    count = n(),\n",
    "    percentage = n() / num_obs * 100)\n",
    "total_proportion"
   ]
  },
  {
   "cell_type": "markdown",
   "id": "8a72cbd8-d3cf-4fc7-961e-fbd42050b30f",
   "metadata": {},
   "source": [
    "As the data distribution is uneven  in this training set (class imbalance), the model will prefer 4 and the prediction will be inaccurate. Therefore, we will cut the data to ensure even distrubution in our training set. We can see from the table above that chest pain 1 have only 23 observations while 2,3,and 4 have way more than 23. So we randomly choose 20-30 observations from chest pain 2, 3, and 4 and only use these for the total data."
   ]
  },
  {
   "cell_type": "code",
   "execution_count": 5,
   "id": "c05275da-6e54-4dc7-9056-601790694e71",
   "metadata": {
    "tags": []
   },
   "outputs": [],
   "source": [
    "#Getting a random number of rows (between 20-30) with cp 4\n",
    "set.seed(45768)\n",
    "random_number <- sample(20:30, 1, replace=TRUE)\n",
    "even_4 <- heart_disease_data_renamed |>\n",
    "filter(cp == 4) |>\n",
    "group_by(cp) |>\n",
    "slice(1:random_number)"
   ]
  },
  {
   "cell_type": "code",
   "execution_count": 6,
   "id": "23579537-2360-42fa-a670-75afba6bfe42",
   "metadata": {
    "tags": []
   },
   "outputs": [],
   "source": [
    "#Getting a random number of rows (between 20-30) with cp 3\n",
    "set.seed(457681)\n",
    "random_number <- sample(20:30, 1, replace=TRUE)\n",
    "even_3 <- heart_disease_data_renamed |>\n",
    "filter(cp == 3) |>\n",
    "group_by(cp) |>\n",
    "slice(1:random_number)\n"
   ]
  },
  {
   "cell_type": "code",
   "execution_count": 7,
   "id": "6c534056-c2bd-4f74-929a-7ffc3d830e5f",
   "metadata": {
    "tags": []
   },
   "outputs": [],
   "source": [
    "#Getting a random number of rows (between 20-30) with cp 2\n",
    "set.seed(457682)\n",
    "random_number <- sample(20:30, 1, replace=TRUE)\n",
    "even_2 <- heart_disease_data_renamed |>\n",
    "filter(cp == 2) |>\n",
    "group_by(cp) |>\n",
    "slice(1:random_number)\n"
   ]
  },
  {
   "cell_type": "code",
   "execution_count": 8,
   "id": "d8abb304-f9e1-4dbf-80f9-6c9622a57cfb",
   "metadata": {
    "tags": []
   },
   "outputs": [],
   "source": [
    "#Getting a random number of rows (between 20-30) with cp 1 and combining the other even data sets.\n",
    "even_data <- heart_disease_data_renamed|>\n",
    "filter(cp == 1) |>\n",
    "rbind(even_4, even_2, even_3)"
   ]
  },
  {
   "cell_type": "code",
   "execution_count": 9,
   "id": "7716b287-df44-4094-b4bf-e30d15d15793",
   "metadata": {},
   "outputs": [],
   "source": [
    "#row distribution for even data\n",
    "num_obs <- nrow(even_data)\n",
    "even_proportion <- even_data |>\n",
    "  group_by(cp) |>\n",
    "  summarize(\n",
    "    count = n(),\n",
    "    percentage = n() / num_obs * 100)"
   ]
  },
  {
   "cell_type": "markdown",
   "id": "21f13706-28a3-4fc7-a904-80d6120f63e2",
   "metadata": {},
   "source": [
    "Now the row distribution is even."
   ]
  },
  {
   "cell_type": "code",
   "execution_count": 10,
   "id": "8a2c5334",
   "metadata": {},
   "outputs": [
    {
     "data": {
      "text/html": [
       "<table class=\"dataframe\">\n",
       "<caption>A tibble: 4 × 3</caption>\n",
       "<thead>\n",
       "\t<tr><th scope=col>cp</th><th scope=col>count</th><th scope=col>percentage</th></tr>\n",
       "\t<tr><th scope=col>&lt;fct&gt;</th><th scope=col>&lt;int&gt;</th><th scope=col>&lt;dbl&gt;</th></tr>\n",
       "</thead>\n",
       "<tbody>\n",
       "\t<tr><td>1</td><td>17</td><td>22.66667</td></tr>\n",
       "\t<tr><td>2</td><td>22</td><td>29.33333</td></tr>\n",
       "\t<tr><td>3</td><td>21</td><td>28.00000</td></tr>\n",
       "\t<tr><td>4</td><td>15</td><td>20.00000</td></tr>\n",
       "</tbody>\n",
       "</table>\n"
      ],
      "text/latex": [
       "A tibble: 4 × 3\n",
       "\\begin{tabular}{lll}\n",
       " cp & count & percentage\\\\\n",
       " <fct> & <int> & <dbl>\\\\\n",
       "\\hline\n",
       "\t 1 & 17 & 22.66667\\\\\n",
       "\t 2 & 22 & 29.33333\\\\\n",
       "\t 3 & 21 & 28.00000\\\\\n",
       "\t 4 & 15 & 20.00000\\\\\n",
       "\\end{tabular}\n"
      ],
      "text/markdown": [
       "\n",
       "A tibble: 4 × 3\n",
       "\n",
       "| cp &lt;fct&gt; | count &lt;int&gt; | percentage &lt;dbl&gt; |\n",
       "|---|---|---|\n",
       "| 1 | 17 | 22.66667 |\n",
       "| 2 | 22 | 29.33333 |\n",
       "| 3 | 21 | 28.00000 |\n",
       "| 4 | 15 | 20.00000 |\n",
       "\n"
      ],
      "text/plain": [
       "  cp count percentage\n",
       "1 1  17    22.66667  \n",
       "2 2  22    29.33333  \n",
       "3 3  21    28.00000  \n",
       "4 4  15    20.00000  "
      ]
     },
     "metadata": {},
     "output_type": "display_data"
    }
   ],
   "source": [
    "#Splitting\n",
    "set.seed(45768)\n",
    "heart_disease_data_split<-initial_split(even_data,prop=.75,strata=cp)\n",
    "training_data<-training(heart_disease_data_split)\n",
    "testing_data<-testing(heart_disease_data_split)\n",
    "\n",
    "num_obs <- nrow(training_data)\n",
    "training_data_proportion <- training_data |>\n",
    "  group_by(cp) |>\n",
    "  summarize(\n",
    "    count = n(),\n",
    "    percentage = n() / num_obs * 100)\n",
    "#this tables shows the number of observation in each class\n",
    "training_data_proportion"
   ]
  },
  {
   "cell_type": "code",
   "execution_count": 11,
   "id": "e11bd936-f7e7-4cf9-8cbc-998fcac269c8",
   "metadata": {},
   "outputs": [
    {
     "data": {
      "image/png": "[encoded data removed]",
      "text/plain": [
       "plot without title"
      ]
     },
     "metadata": {
      "image/png": {
       "height": 420,
       "width": 720
      }
     },
     "output_type": "display_data"
    }
   ],
   "source": [
    "#Mean of double training data\n",
    "training_data_double<-select(training_data,-sex,-fbs,-restecg,-exang,-slope,-ca,-thal,-num)\n",
    "\n",
    "\n",
    "mean_data <- training_data_double |>\n",
    "            group_by(cp) |>\n",
    "            summarize(across(age:oldpeak, max))\n",
    "\n",
    "mean_data <- mean_data |>\n",
    "  pivot_longer(\n",
    "      cols=age:oldpeak,\n",
    "      names_to = \"predictor\",\n",
    "      values_to = \"mean_value\")\n",
    "\n",
    "options(repr.plot.width = 12, repr.plot.height = 7)\n",
    "data_final_plot <- mean_data|>\n",
    "        ggplot(aes(x = fct_reorder(predictor, mean_value, .desc = TRUE), y = mean_value, fill = cp))+\n",
    "geom_bar(stat = \"identity\", position = \"dodge\")+\n",
    "scale_fill_brewer(palette = \"Set2\") +\n",
    "labs(x = \"Predictor Values\", y = \"Total Mean\", fill = \"Chest Pain Type\")  +\n",
    "ggtitle(\"The Distribution of Predictor Values in Four Types of Chest Pain\") +\n",
    "#facet_grid(rows = vars(cp)) +\n",
    "theme(text = element_text(size = 20))\n",
    "\n",
    "data_final_plot\n"
   ]
  },
  {
   "cell_type": "markdown",
   "id": "90e48c8c",
   "metadata": {},
   "source": [
    "# Methods"
   ]
  },
  {
   "cell_type": "markdown",
   "id": "5c9c5fee-069e-43ee-b9ee-42c1f2369c6a",
   "metadata": {},
   "source": [
    "1. The first step in the data analysis was to tidy up the data. For instance, the data didn't have any labels in it so we used the colnames() function to rename the default labels to human readable values.\n",
    " 2. The next step includes splitting the data into training and testing data sets so that we can make a prediction model.\n",
    " 3. We needed a recipe to create a prediction model for our analysis but before creating the recipe, we instead performed the cross-validation operation to break up the training set into pieces and then predict the model using tuned neighbours. Following this, we plotted the neighbours versus mean graph and from the confmat and metrics function output to vizualize the best value of K.\n",
    " 4. We used the value of K we got to create the final recipe and add it to our prediction model. We found the best value of K to be  , giving us an accuracy of _%.\n",
    " 5. We then trained our model using the workflow function and then predicted the data in the testing set using our model.\n",
    " 6. We have included all the variables present in the training set since we felt that all of them were affecting the result of the type of chest pain.\n",
    " \n",
    " We're vizualizing the neighbours versus mean line plot from the output we got from the metrics and the conf_mat functions. We used this vizualization to predict the best value of K. The plot clearly described how the mean of the accuracy was changing with change in the value of K."
   ]
  },
  {
   "cell_type": "markdown",
   "id": "230ad6b2-bf3e-4854-a927-5399c2235a60",
   "metadata": {},
   "source": [
    "## Expectations and Outcomes\n",
    "We're expecting to predict the type of chest pain that a person might have based on the symptoms and the health condition of the person. We're using various factors such as age, sex, blood sugar level, etc. to predict the type of chest pain. \n",
    "\n",
    "Our model can help with a faster detection of the type of chest pain and hence a proper treatment can be given to a person in time. The model can also be used to study how the type of chest pain varies with different factors and doctors and scientists would be able to get more information about the same.\n",
    "\n",
    "This could lead to discovering a new type of chest pain that our model might not be able to predict. We can also study the data more and predict some additional symptoms of a particular type of chest pain."
   ]
  }
 ],
 "metadata": {
  "kernelspec": {
   "display_name": "R",
   "language": "R",
   "name": "ir"
  },
  "language_info": {
   "codemirror_mode": "r",
   "file_extension": ".r",
   "mimetype": "text/x-r-source",
   "name": "R",
   "pygments_lexer": "r",
   "version": "4.1.3"
  }
 },
 "nbformat": 4,
 "nbformat_minor": 5
}
