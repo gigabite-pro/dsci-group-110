{
 "cells": [
  {
   "cell_type": "markdown",
   "id": "bda34852",
   "metadata": {},
   "source": [
    "# Predicting Angiographic Disease Status"
   ]
  },
  {
   "cell_type": "markdown",
   "id": "d7e79122",
   "metadata": {},
   "source": [
    "# Introduction\n",
    "With the advent of globalisation, we have seen an exponential improvement in the quality of life for people globally. Inventions from plastics and the internet have revolutionised the way human society functions. With globalisation, we saw both industrialisation and innovations in food technology. But, like everything, this has positively and negatively impacted human life. \n",
    "\n",
    "In our modern times, we have witnessed exorbitant increases in the prevalence rates of diseases fueled by unhealthy lifestyles, which have long-lasting effects on people's lives.\n",
    "\n",
    "Angiographic disease refers to a condition which is associated with blood vessels and blood flow through these vessels. With this project, we are analysing the *processed.cleveland.data* file and using the data to predict the type of chest pain an individual has in the event the individual is sick.\n",
    "\n",
    "Chest pains are classified into the four following types:\n",
    "1. Typical angina\n",
    "2. Atypical angina\n",
    "3. Non-anginal pain\n",
    "4. Asymptomatic"
   ]
  },
  {
   "cell_type": "markdown",
   "id": "ce0af211",
   "metadata": {
    "tags": []
   },
   "source": [
    "# Methods & Results"
   ]
  },
  {
   "cell_type": "markdown",
   "id": "ae5bbc23-d36f-4733-9506-6cae3ddc1990",
   "metadata": {},
   "source": [
    "The first step of all is to load the libraries."
   ]
  },
  {
   "cell_type": "code",
   "execution_count": 1,
   "id": "02afc5e4",
   "metadata": {
    "tags": []
   },
   "outputs": [
    {
     "name": "stderr",
     "output_type": "stream",
     "text": [
      "── \u001b[1mAttaching packages\u001b[22m ─────────────────────────────────────── tidyverse 1.3.1 ──\n",
      "\n",
      "\u001b[32m✔\u001b[39m \u001b[34mggplot2\u001b[39m 3.3.6     \u001b[32m✔\u001b[39m \u001b[34mpurrr  \u001b[39m 0.3.4\n",
      "\u001b[32m✔\u001b[39m \u001b[34mtibble \u001b[39m 3.1.7     \u001b[32m✔\u001b[39m \u001b[34mdplyr  \u001b[39m 1.0.9\n",
      "\u001b[32m✔\u001b[39m \u001b[34mtidyr  \u001b[39m 1.2.0     \u001b[32m✔\u001b[39m \u001b[34mstringr\u001b[39m 1.4.0\n",
      "\u001b[32m✔\u001b[39m \u001b[34mreadr  \u001b[39m 2.1.2     \u001b[32m✔\u001b[39m \u001b[34mforcats\u001b[39m 0.5.1\n",
      "\n",
      "── \u001b[1mConflicts\u001b[22m ────────────────────────────────────────── tidyverse_conflicts() ──\n",
      "\u001b[31m✖\u001b[39m \u001b[34mdplyr\u001b[39m::\u001b[32mfilter()\u001b[39m masks \u001b[34mstats\u001b[39m::filter()\n",
      "\u001b[31m✖\u001b[39m \u001b[34mdplyr\u001b[39m::\u001b[32mlag()\u001b[39m    masks \u001b[34mstats\u001b[39m::lag()\n",
      "\n",
      "\n",
      "Attaching package: ‘testthat’\n",
      "\n",
      "\n",
      "The following object is masked from ‘package:dplyr’:\n",
      "\n",
      "    matches\n",
      "\n",
      "\n",
      "The following object is masked from ‘package:purrr’:\n",
      "\n",
      "    is_null\n",
      "\n",
      "\n",
      "The following objects are masked from ‘package:readr’:\n",
      "\n",
      "    edition_get, local_edition\n",
      "\n",
      "\n",
      "The following object is masked from ‘package:tidyr’:\n",
      "\n",
      "    matches\n",
      "\n",
      "\n",
      "── \u001b[1mAttaching packages\u001b[22m ────────────────────────────────────── tidymodels 1.0.0 ──\n",
      "\n",
      "\u001b[32m✔\u001b[39m \u001b[34mbroom       \u001b[39m 1.0.0     \u001b[32m✔\u001b[39m \u001b[34mrsample     \u001b[39m 1.0.0\n",
      "\u001b[32m✔\u001b[39m \u001b[34mdials       \u001b[39m 1.0.0     \u001b[32m✔\u001b[39m \u001b[34mtune        \u001b[39m 1.0.0\n",
      "\u001b[32m✔\u001b[39m \u001b[34minfer       \u001b[39m 1.0.2     \u001b[32m✔\u001b[39m \u001b[34mworkflows   \u001b[39m 1.0.0\n",
      "\u001b[32m✔\u001b[39m \u001b[34mmodeldata   \u001b[39m 1.0.0     \u001b[32m✔\u001b[39m \u001b[34mworkflowsets\u001b[39m 1.0.0\n",
      "\u001b[32m✔\u001b[39m \u001b[34mparsnip     \u001b[39m 1.0.0     \u001b[32m✔\u001b[39m \u001b[34myardstick   \u001b[39m 1.0.0\n",
      "\u001b[32m✔\u001b[39m \u001b[34mrecipes     \u001b[39m 1.0.1     \n",
      "\n",
      "── \u001b[1mConflicts\u001b[22m ───────────────────────────────────────── tidymodels_conflicts() ──\n",
      "\u001b[31m✖\u001b[39m \u001b[34mscales\u001b[39m::\u001b[32mdiscard()\u001b[39m   masks \u001b[34mpurrr\u001b[39m::discard()\n",
      "\u001b[31m✖\u001b[39m \u001b[34mdplyr\u001b[39m::\u001b[32mfilter()\u001b[39m     masks \u001b[34mstats\u001b[39m::filter()\n",
      "\u001b[31m✖\u001b[39m \u001b[34mrecipes\u001b[39m::\u001b[32mfixed()\u001b[39m    masks \u001b[34mstringr\u001b[39m::fixed()\n",
      "\u001b[31m✖\u001b[39m \u001b[34mtestthat\u001b[39m::\u001b[32mis_null()\u001b[39m masks \u001b[34mpurrr\u001b[39m::is_null()\n",
      "\u001b[31m✖\u001b[39m \u001b[34mdplyr\u001b[39m::\u001b[32mlag()\u001b[39m        masks \u001b[34mstats\u001b[39m::lag()\n",
      "\u001b[31m✖\u001b[39m \u001b[34mrsample\u001b[39m::\u001b[32mmatches()\u001b[39m  masks \u001b[34mtestthat\u001b[39m::matches(), \u001b[34mdplyr\u001b[39m::matches(), \u001b[34mtidyr\u001b[39m::matches()\n",
      "\u001b[31m✖\u001b[39m \u001b[34myardstick\u001b[39m::\u001b[32mspec()\u001b[39m   masks \u001b[34mreadr\u001b[39m::spec()\n",
      "\u001b[31m✖\u001b[39m \u001b[34mrecipes\u001b[39m::\u001b[32mstep()\u001b[39m     masks \u001b[34mstats\u001b[39m::step()\n",
      "\u001b[34m•\u001b[39m Use suppressPackageStartupMessages() to eliminate package startup messages\n",
      "\n"
     ]
    }
   ],
   "source": [
    "# Importing Necessary Libraries\n",
    "library(tidyverse)\n",
    "library(testthat)\n",
    "library(digest)\n",
    "library(repr)\n",
    "library(tidymodels)"
   ]
  },
  {
   "cell_type": "markdown",
   "id": "554d31e9-8cc9-484a-aef6-28b43e4a1e83",
   "metadata": {},
   "source": [
    "After we loaded the libraries, we got the data from an URL provided by the website given by DSCI100. And used read_csv to load the data. We also took a look at the data using the function \"glimpse\" because it's a data with a lot of columns."
   ]
  },
  {
   "cell_type": "code",
   "execution_count": 2,
   "id": "171b9658",
   "metadata": {
    "tags": []
   },
   "outputs": [
    {
     "name": "stderr",
     "output_type": "stream",
     "text": [
      "\u001b[1mRows: \u001b[22m\u001b[34m303\u001b[39m \u001b[1mColumns: \u001b[22m\u001b[34m14\u001b[39m\n",
      "\u001b[36m──\u001b[39m \u001b[1mColumn specification\u001b[22m \u001b[36m────────────────────────────────────────────────────────\u001b[39m\n",
      "\u001b[1mDelimiter:\u001b[22m \",\"\n",
      "\u001b[31mchr\u001b[39m  (2): X12, X13\n",
      "\u001b[32mdbl\u001b[39m (12): X1, X2, X3, X4, X5, X6, X7, X8, X9, X10, X11, X14\n",
      "\n",
      "\u001b[36mℹ\u001b[39m Use `spec()` to retrieve the full column specification for this data.\n",
      "\u001b[36mℹ\u001b[39m Specify the column types or set `show_col_types = FALSE` to quiet this message.\n"
     ]
    },
    {
     "name": "stdout",
     "output_type": "stream",
     "text": [
      "Rows: 303\n",
      "Columns: 14\n",
      "$ X1  \u001b[3m\u001b[90m<dbl>\u001b[39m\u001b[23m 63, 67, 67, 37, 41, 56, 62, 57, 63, 53, 57, 56, 56, 44, 52, 57, 48…\n",
      "$ X2  \u001b[3m\u001b[90m<dbl>\u001b[39m\u001b[23m 1, 1, 1, 1, 0, 1, 0, 0, 1, 1, 1, 0, 1, 1, 1, 1, 1, 1, 0, 1, 1, 0, …\n",
      "$ X3  \u001b[3m\u001b[90m<dbl>\u001b[39m\u001b[23m 1, 4, 4, 3, 2, 2, 4, 4, 4, 4, 4, 2, 3, 2, 3, 3, 2, 4, 3, 2, 1, 1, …\n",
      "$ X4  \u001b[3m\u001b[90m<dbl>\u001b[39m\u001b[23m 145, 160, 120, 130, 130, 120, 140, 120, 130, 140, 140, 140, 130, 1…\n",
      "$ X5  \u001b[3m\u001b[90m<dbl>\u001b[39m\u001b[23m 233, 286, 229, 250, 204, 236, 268, 354, 254, 203, 192, 294, 256, 2…\n",
      "$ X6  \u001b[3m\u001b[90m<dbl>\u001b[39m\u001b[23m 1, 0, 0, 0, 0, 0, 0, 0, 0, 1, 0, 0, 1, 0, 1, 0, 0, 0, 0, 0, 0, 1, …\n",
      "$ X7  \u001b[3m\u001b[90m<dbl>\u001b[39m\u001b[23m 2, 2, 2, 0, 2, 0, 2, 0, 2, 2, 0, 2, 2, 0, 0, 0, 0, 0, 0, 0, 2, 2, …\n",
      "$ X8  \u001b[3m\u001b[90m<dbl>\u001b[39m\u001b[23m 150, 108, 129, 187, 172, 178, 160, 163, 147, 155, 148, 153, 142, 1…\n",
      "$ X9  \u001b[3m\u001b[90m<dbl>\u001b[39m\u001b[23m 0, 1, 1, 0, 0, 0, 0, 1, 0, 1, 0, 0, 1, 0, 0, 0, 0, 0, 0, 0, 1, 0, …\n",
      "$ X10 \u001b[3m\u001b[90m<dbl>\u001b[39m\u001b[23m 2.3, 1.5, 2.6, 3.5, 1.4, 0.8, 3.6, 0.6, 1.4, 3.1, 0.4, 1.3, 0.6, 0…\n",
      "$ X11 \u001b[3m\u001b[90m<dbl>\u001b[39m\u001b[23m 3, 2, 2, 3, 1, 1, 3, 1, 2, 3, 2, 2, 2, 1, 1, 1, 3, 1, 1, 1, 2, 1, …\n",
      "$ X12 \u001b[3m\u001b[90m<chr>\u001b[39m\u001b[23m \"0.0\", \"3.0\", \"2.0\", \"0.0\", \"0.0\", \"0.0\", \"2.0\", \"0.0\", \"1.0\", \"0.…\n",
      "$ X13 \u001b[3m\u001b[90m<chr>\u001b[39m\u001b[23m \"6.0\", \"3.0\", \"7.0\", \"3.0\", \"3.0\", \"3.0\", \"3.0\", \"3.0\", \"7.0\", \"7.…\n",
      "$ X14 \u001b[3m\u001b[90m<dbl>\u001b[39m\u001b[23m 0, 2, 1, 0, 0, 0, 3, 0, 2, 1, 0, 0, 2, 0, 0, 0, 1, 0, 0, 0, 0, 0, …\n"
     ]
    }
   ],
   "source": [
    "# Loading Data\n",
    "url <- \"https://archive.ics.uci.edu/ml/machine-learning-databases/heart-disease/processed.cleveland.data\"\n",
    "heart_disease_data <- read_csv(url, \n",
    "                               col_names = FALSE)\n",
    "\n",
    "# Covering Data Frame To Tibble\n",
    "heart_disease_data <- as_tibble(heart_disease_data)\n",
    "\n",
    "# Checking Data Frame\n",
    "glimpse(heart_disease_data)"
   ]
  },
  {
   "cell_type": "markdown",
   "id": "6863b6f3-0d3c-4d9b-acaa-5d52da23cc4d",
   "metadata": {},
   "source": [
    "Now we can see that this data is really untidy, and the first step to tackel this is by renaming the column name\n",
    "with the name given by the original website. We also noticed that some of the columns are factors but represented\n",
    "by character or double, so we convert it to factor using \"as.factor\"."
   ]
  },
  {
   "cell_type": "code",
   "execution_count": 3,
   "id": "de909e10",
   "metadata": {
    "tags": []
   },
   "outputs": [
    {
     "name": "stdout",
     "output_type": "stream",
     "text": [
      "Rows: 303\n",
      "Columns: 14\n",
      "$ age      \u001b[3m\u001b[90m<dbl>\u001b[39m\u001b[23m 63, 67, 67, 37, 41, 56, 62, 57, 63, 53, 57, 56, 56, 44, 52, 5…\n",
      "$ sex      \u001b[3m\u001b[90m<fct>\u001b[39m\u001b[23m 1, 1, 1, 1, 0, 1, 0, 0, 1, 1, 1, 0, 1, 1, 1, 1, 1, 1, 0, 1, 1…\n",
      "$ cp       \u001b[3m\u001b[90m<fct>\u001b[39m\u001b[23m 1, 4, 4, 3, 2, 2, 4, 4, 4, 4, 4, 2, 3, 2, 3, 3, 2, 4, 3, 2, 1…\n",
      "$ trestbps \u001b[3m\u001b[90m<dbl>\u001b[39m\u001b[23m 145, 160, 120, 130, 130, 120, 140, 120, 130, 140, 140, 140, 1…\n",
      "$ chol     \u001b[3m\u001b[90m<dbl>\u001b[39m\u001b[23m 233, 286, 229, 250, 204, 236, 268, 354, 254, 203, 192, 294, 2…\n",
      "$ fbs      \u001b[3m\u001b[90m<fct>\u001b[39m\u001b[23m 1, 0, 0, 0, 0, 0, 0, 0, 0, 1, 0, 0, 1, 0, 1, 0, 0, 0, 0, 0, 0…\n",
      "$ restecg  \u001b[3m\u001b[90m<fct>\u001b[39m\u001b[23m 2, 2, 2, 0, 2, 0, 2, 0, 2, 2, 0, 2, 2, 0, 0, 0, 0, 0, 0, 0, 2…\n",
      "$ thalach  \u001b[3m\u001b[90m<dbl>\u001b[39m\u001b[23m 150, 108, 129, 187, 172, 178, 160, 163, 147, 155, 148, 153, 1…\n",
      "$ exang    \u001b[3m\u001b[90m<fct>\u001b[39m\u001b[23m 0, 1, 1, 0, 0, 0, 0, 1, 0, 1, 0, 0, 1, 0, 0, 0, 0, 0, 0, 0, 1…\n",
      "$ oldpeak  \u001b[3m\u001b[90m<dbl>\u001b[39m\u001b[23m 2.3, 1.5, 2.6, 3.5, 1.4, 0.8, 3.6, 0.6, 1.4, 3.1, 0.4, 1.3, 0…\n",
      "$ slope    \u001b[3m\u001b[90m<fct>\u001b[39m\u001b[23m 3, 2, 2, 3, 1, 1, 3, 1, 2, 3, 2, 2, 2, 1, 1, 1, 3, 1, 1, 1, 2…\n",
      "$ ca       \u001b[3m\u001b[90m<fct>\u001b[39m\u001b[23m 0.0, 3.0, 2.0, 0.0, 0.0, 0.0, 2.0, 0.0, 1.0, 0.0, 0.0, 0.0, 1…\n",
      "$ thal     \u001b[3m\u001b[90m<fct>\u001b[39m\u001b[23m 6.0, 3.0, 7.0, 3.0, 3.0, 3.0, 3.0, 3.0, 7.0, 7.0, 6.0, 3.0, 6…\n",
      "$ num      \u001b[3m\u001b[90m<fct>\u001b[39m\u001b[23m 0, 2, 1, 0, 0, 0, 3, 0, 2, 1, 0, 0, 2, 0, 0, 0, 1, 0, 0, 0, 0…\n"
     ]
    }
   ],
   "source": [
    "# Preprocessing Of Data\n",
    "heart_disease_data_factored <- heart_disease_data |>\n",
    "                        mutate(X2  = as.factor(X2) ,\n",
    "                               X3  = as.factor(X3) ,\n",
    "                               X6  = as.factor(X6) ,\n",
    "                               X7  = as.factor(X7) ,\n",
    "                               X9  = as.factor(X9) ,\n",
    "                               X11 = as.factor(X11),\n",
    "                               X12 = as.factor(X12),\n",
    "                               X13 = as.factor(X13),\n",
    "                               X14 = as.factor(X14))\n",
    "\n",
    "heart_disease_data_renamed <- rename(heart_disease_data_factored,\n",
    "                                     age = X1, \n",
    "                                     sex = X2, \n",
    "                                     cp = X3,\n",
    "                                     trestbps = X4, \n",
    "                                     chol = X5, \n",
    "                                     fbs = X6,\n",
    "                                     restecg = X7,\n",
    "                                     thalach = X8,\n",
    "                                     exang = X9,\n",
    "                                     oldpeak = X10,\n",
    "                                     slope = X11,\n",
    "                                     ca = X12,\n",
    "                                     thal = X13,\n",
    "                                     num = X14)\n",
    "#cleaning data\n",
    "glimpse(heart_disease_data_renamed)"
   ]
  },
  {
   "cell_type": "code",
   "execution_count": 4,
   "id": "c19747bf-85bf-43c7-87e2-7d8f03265b4c",
   "metadata": {
    "tags": []
   },
   "outputs": [
    {
     "data": {
      "text/html": [
       "<table class=\"dataframe\">\n",
       "<caption>A tibble: 4 × 3</caption>\n",
       "<thead>\n",
       "\t<tr><th scope=col>cp</th><th scope=col>count</th><th scope=col>percentage</th></tr>\n",
       "\t<tr><th scope=col>&lt;fct&gt;</th><th scope=col>&lt;int&gt;</th><th scope=col>&lt;dbl&gt;</th></tr>\n",
       "</thead>\n",
       "<tbody>\n",
       "\t<tr><td>1</td><td> 23</td><td> 7.590759</td></tr>\n",
       "\t<tr><td>2</td><td> 50</td><td>16.501650</td></tr>\n",
       "\t<tr><td>3</td><td> 85</td><td>28.052805</td></tr>\n",
       "\t<tr><td>4</td><td>144</td><td>47.524752</td></tr>\n",
       "</tbody>\n",
       "</table>\n"
      ],
      "text/latex": [
       "A tibble: 4 × 3\n",
       "\\begin{tabular}{lll}\n",
       " cp & count & percentage\\\\\n",
       " <fct> & <int> & <dbl>\\\\\n",
       "\\hline\n",
       "\t 1 &  23 &  7.590759\\\\\n",
       "\t 2 &  50 & 16.501650\\\\\n",
       "\t 3 &  85 & 28.052805\\\\\n",
       "\t 4 & 144 & 47.524752\\\\\n",
       "\\end{tabular}\n"
      ],
      "text/markdown": [
       "\n",
       "A tibble: 4 × 3\n",
       "\n",
       "| cp &lt;fct&gt; | count &lt;int&gt; | percentage &lt;dbl&gt; |\n",
       "|---|---|---|\n",
       "| 1 |  23 |  7.590759 |\n",
       "| 2 |  50 | 16.501650 |\n",
       "| 3 |  85 | 28.052805 |\n",
       "| 4 | 144 | 47.524752 |\n",
       "\n"
      ],
      "text/plain": [
       "  cp count percentage\n",
       "1 1   23    7.590759 \n",
       "2 2   50   16.501650 \n",
       "3 3   85   28.052805 \n",
       "4 4  144   47.524752 "
      ]
     },
     "metadata": {},
     "output_type": "display_data"
    }
   ],
   "source": [
    "#Showing row count for each chest pain type\n",
    "num_obs <- nrow(heart_disease_data_renamed)\n",
    "total_proportion <- heart_disease_data_renamed |>\n",
    "                    slice(1:302) |>\n",
    "                    group_by(cp) |>\n",
    "                    summarize(\n",
    "                        count = n(),\n",
    "                        percentage = n() / num_obs * 100)\n",
    "total_proportion"
   ]
  },
  {
   "cell_type": "markdown",
   "id": "8a72cbd8-d3cf-4fc7-961e-fbd42050b30f",
   "metadata": {},
   "source": [
    "As the data distribution is uneven  in this training set (class imbalance), the model will prefer 4 and the prediction will be inaccurate. Therefore, we will cut the data to ensure even distrubution in our training set. We can see from the table above that chest pain 1 have only 23 observations while 2,3,and 4 have way more than 23. So we randomly choose 20-30 observations from chest pain 2, 3, and 4 and only use these for the total data."
   ]
  },
  {
   "cell_type": "code",
   "execution_count": 5,
   "id": "c05275da-6e54-4dc7-9056-601790694e71",
   "metadata": {
    "tags": []
   },
   "outputs": [],
   "source": [
    "#Getting a random number of rows (between 20-30) with cp 4\n",
    "set.seed(45768)\n",
    "\n",
    "random_number <- sample(20:30, 1, replace=TRUE)\n",
    "\n",
    "even_4 <- heart_disease_data_renamed |>\n",
    "          filter(cp == 4) |>\n",
    "          group_by(cp) |>\n",
    "          slice(1:random_number)"
   ]
  },
  {
   "cell_type": "code",
   "execution_count": 6,
   "id": "23579537-2360-42fa-a670-75afba6bfe42",
   "metadata": {
    "tags": []
   },
   "outputs": [],
   "source": [
    "#Getting a random number of rows (between 20-30) with cp 3\n",
    "set.seed(457681)\n",
    "\n",
    "random_number <- sample(20:30, 1, replace=TRUE)\n",
    "\n",
    "even_3 <- heart_disease_data_renamed |>\n",
    "          filter(cp == 3) |>\n",
    "          group_by(cp) |>\n",
    "          slice(1:random_number)"
   ]
  },
  {
   "cell_type": "code",
   "execution_count": 7,
   "id": "6c534056-c2bd-4f74-929a-7ffc3d830e5f",
   "metadata": {
    "tags": []
   },
   "outputs": [],
   "source": [
    "#Getting a random number of rows (between 20-30) with cp 2\n",
    "set.seed(457682)\n",
    "\n",
    "random_number <- sample(20:30, 1, replace=TRUE)\n",
    "\n",
    "even_2 <- heart_disease_data_renamed |>\n",
    "          filter(cp == 2) |>\n",
    "          group_by(cp) |>\n",
    "          slice(1:random_number)"
   ]
  },
  {
   "cell_type": "code",
   "execution_count": 8,
   "id": "d8abb304-f9e1-4dbf-80f9-6c9622a57cfb",
   "metadata": {
    "tags": []
   },
   "outputs": [],
   "source": [
    "#Getting a random number of rows (between 20-30) with cp 1 and combining the other even data sets.\n",
    "even_data <- heart_disease_data_renamed|>\n",
    "             filter(cp == 1) |>\n",
    "             rbind(even_4, even_2, even_3)"
   ]
  },
  {
   "cell_type": "code",
   "execution_count": 9,
   "id": "7716b287-df44-4094-b4bf-e30d15d15793",
   "metadata": {},
   "outputs": [],
   "source": [
    "#row distribution for even data\n",
    "num_obs <- nrow(even_data)\n",
    "even_proportion <- even_data |>\n",
    "                   group_by(cp) |>\n",
    "                   summarize(\n",
    "                     count = n(),\n",
    "                     percentage = n() / num_obs * 100)"
   ]
  },
  {
   "cell_type": "markdown",
   "id": "21f13706-28a3-4fc7-a904-80d6120f63e2",
   "metadata": {},
   "source": [
    "Now the row distribution should be even and it could be viewed by summarizing the counts of each chest pain by group_by and summarize."
   ]
  },
  {
   "cell_type": "code",
   "execution_count": 10,
   "id": "8a2c5334",
   "metadata": {},
   "outputs": [
    {
     "data": {
      "text/html": [
       "<table class=\"dataframe\">\n",
       "<caption>A tibble: 4 × 3</caption>\n",
       "<thead>\n",
       "\t<tr><th scope=col>cp</th><th scope=col>count</th><th scope=col>percentage</th></tr>\n",
       "\t<tr><th scope=col>&lt;fct&gt;</th><th scope=col>&lt;int&gt;</th><th scope=col>&lt;dbl&gt;</th></tr>\n",
       "</thead>\n",
       "<tbody>\n",
       "\t<tr><td>1</td><td>17</td><td>22.66667</td></tr>\n",
       "\t<tr><td>2</td><td>22</td><td>29.33333</td></tr>\n",
       "\t<tr><td>3</td><td>21</td><td>28.00000</td></tr>\n",
       "\t<tr><td>4</td><td>15</td><td>20.00000</td></tr>\n",
       "</tbody>\n",
       "</table>\n"
      ],
      "text/latex": [
       "A tibble: 4 × 3\n",
       "\\begin{tabular}{lll}\n",
       " cp & count & percentage\\\\\n",
       " <fct> & <int> & <dbl>\\\\\n",
       "\\hline\n",
       "\t 1 & 17 & 22.66667\\\\\n",
       "\t 2 & 22 & 29.33333\\\\\n",
       "\t 3 & 21 & 28.00000\\\\\n",
       "\t 4 & 15 & 20.00000\\\\\n",
       "\\end{tabular}\n"
      ],
      "text/markdown": [
       "\n",
       "A tibble: 4 × 3\n",
       "\n",
       "| cp &lt;fct&gt; | count &lt;int&gt; | percentage &lt;dbl&gt; |\n",
       "|---|---|---|\n",
       "| 1 | 17 | 22.66667 |\n",
       "| 2 | 22 | 29.33333 |\n",
       "| 3 | 21 | 28.00000 |\n",
       "| 4 | 15 | 20.00000 |\n",
       "\n"
      ],
      "text/plain": [
       "  cp count percentage\n",
       "1 1  17    22.66667  \n",
       "2 2  22    29.33333  \n",
       "3 3  21    28.00000  \n",
       "4 4  15    20.00000  "
      ]
     },
     "metadata": {},
     "output_type": "display_data"
    }
   ],
   "source": [
    "#Splitting\n",
    "set.seed(45768)\n",
    "\n",
    "heart_disease_data_split <- initial_split(even_data,prop=.75,strata=cp)\n",
    "\n",
    "training_data <- training(heart_disease_data_split)\n",
    "\n",
    "testing_data <- testing(heart_disease_data_split)\n",
    "\n",
    "num_obs <- nrow(training_data)\n",
    "\n",
    "training_data_proportion <- training_data |>\n",
    "                            group_by(cp) |>\n",
    "                            summarize(\n",
    "                              count = n(),\n",
    "                              percentage = n() / num_obs * 100)\n",
    "\n",
    "#this tables shows the number of observation in each class\n",
    "training_data_proportion"
   ]
  },
  {
   "cell_type": "markdown",
   "id": "1946ec98-db7c-4034-a986-be8a8bac16e4",
   "metadata": {},
   "source": [
    "After making sure that our data is ready, we selected all observations of type double to visualize. We will exclude factor variables in our visualization since we cannot use them as predictors in our predictive model, meaning there's no need to interpret them.\n",
    "\n",
    "\n",
    "As for the visualization, we are trying to interpret the distrubution of each predictor for our label to evaluate their  \n",
    "\n",
    "so we calculated each mean value of the four types of chest pain of the different predictors. We then create a bar graph and do some editing to make it easy to visualize."
   ]
  },
  {
   "cell_type": "code",
   "execution_count": 27,
   "id": "e11bd936-f7e7-4cf9-8cbc-998fcac269c8",
   "metadata": {},
   "outputs": [
    {
     "data": {
      "image/png": "[encoded data removed]",
      "text/plain": [
       "plot without title"
      ]
     },
     "metadata": {
      "image/png": {
       "height": 720,
       "width": 1200
      }
     },
     "output_type": "display_data"
    }
   ],
   "source": [
    "#Mean of double training data\n",
    "training_data_double <- select(training_data, -sex , -fbs , -restecg , -exang , -slope , -ca , -thal , -num)   \n",
    "\n",
    "training_data_double<-rename(training_data_double,\n",
    "                    \"Serum Cholestrol (mg/dl)\"=chol,\n",
    "                    \"Maximum Heart Rate Achieved\"=thalach,\n",
    "                    \"Resting Blood Pressure\"=trestbps,\n",
    "                    \"Induced ST Depression\"=oldpeak,\n",
    "                    \"Age\"=age)\n",
    "\n",
    "mean_data <- training_data_double |>\n",
    "             group_by(cp) |>\n",
    "             summarize(across(\"Age\":\"Induced ST Depression\", max))\n",
    "\n",
    "mean_data <- mean_data |>\n",
    "            pivot_longer(\n",
    "                  cols=\"Age\":\"Induced ST Depression\",\n",
    "                  names_to = \"predictor\",\n",
    "                  values_to = \"mean_value\")\n",
    "\n",
    "\n",
    "\n",
    "options(repr.plot.width = 20, repr.plot.height = 12)\n",
    "\n",
    "data_final_plot <- mean_data|>\n",
    "                    ggplot(aes(x = fct_reorder(predictor, mean_value, .desc = TRUE), y = mean_value, fill = cp))+\n",
    "                    geom_bar(stat = \"identity\", position = \"dodge\")+\n",
    "                    scale_fill_brewer(palette = \"Set2\") +\n",
    "                    labs(x = \"Predictor Values\", y = \"Total Mean\", fill = \"Chest Pain Type\")  +\n",
    "                    ggtitle(\"The Distribution of Predictor Values in Four Types of Chest Pain\") +\n",
    "                    #facet_grid(rows = vars(cp)) +\n",
    "                    theme(text = element_text(size = 20))\n",
    "\n",
    "data_final_plot"
   ]
  },
  {
   "cell_type": "markdown",
   "id": "3e4c2c6e-4f07-4683-a83c-4e1dbce28749",
   "metadata": {},
   "source": [
    "# Classification Model"
   ]
  },
  {
   "cell_type": "code",
   "execution_count": 12,
   "id": "d1ef4595-f5ba-4428-bc0a-c030bda422b6",
   "metadata": {},
   "outputs": [
    {
     "data": {
      "text/html": [
       "<table class=\"dataframe\">\n",
       "<caption>A tibble: 20 × 7</caption>\n",
       "<thead>\n",
       "\t<tr><th scope=col>neighbors</th><th scope=col>.metric</th><th scope=col>.estimator</th><th scope=col>mean</th><th scope=col>n</th><th scope=col>std_err</th><th scope=col>.config</th></tr>\n",
       "\t<tr><th scope=col>&lt;int&gt;</th><th scope=col>&lt;chr&gt;</th><th scope=col>&lt;chr&gt;</th><th scope=col>&lt;dbl&gt;</th><th scope=col>&lt;int&gt;</th><th scope=col>&lt;dbl&gt;</th><th scope=col>&lt;chr&gt;</th></tr>\n",
       "</thead>\n",
       "<tbody>\n",
       "\t<tr><td> 2</td><td>accuracy</td><td>multiclass</td><td>0.2674370</td><td>5</td><td>0.04095238</td><td>Preprocessor1_Model01</td></tr>\n",
       "\t<tr><td> 2</td><td>roc_auc </td><td>hand_till </td><td>0.5291806</td><td>5</td><td>0.05621492</td><td>Preprocessor1_Model01</td></tr>\n",
       "\t<tr><td> 4</td><td>accuracy</td><td>multiclass</td><td>0.3542017</td><td>5</td><td>0.06418953</td><td>Preprocessor1_Model02</td></tr>\n",
       "\t<tr><td> 4</td><td>roc_auc </td><td>hand_till </td><td>0.6086435</td><td>5</td><td>0.05874180</td><td>Preprocessor1_Model02</td></tr>\n",
       "\t<tr><td> 5</td><td>accuracy</td><td>multiclass</td><td>0.3659664</td><td>5</td><td>0.05965943</td><td>Preprocessor1_Model03</td></tr>\n",
       "\t<tr><td> 5</td><td>roc_auc </td><td>hand_till </td><td>0.6038333</td><td>5</td><td>0.03651284</td><td>Preprocessor1_Model03</td></tr>\n",
       "\t<tr><td> 6</td><td>accuracy</td><td>multiclass</td><td>0.3348739</td><td>5</td><td>0.03100146</td><td>Preprocessor1_Model04</td></tr>\n",
       "\t<tr><td> 6</td><td>roc_auc </td><td>hand_till </td><td>0.6208565</td><td>5</td><td>0.02314987</td><td>Preprocessor1_Model04</td></tr>\n",
       "\t<tr><td> 7</td><td>accuracy</td><td>multiclass</td><td>0.3591387</td><td>5</td><td>0.02753243</td><td>Preprocessor1_Model05</td></tr>\n",
       "\t<tr><td> 7</td><td>roc_auc </td><td>hand_till </td><td>0.6194398</td><td>5</td><td>0.02973580</td><td>Preprocessor1_Model05</td></tr>\n",
       "\t<tr><td> 9</td><td>accuracy</td><td>multiclass</td><td>0.3466387</td><td>5</td><td>0.05231050</td><td>Preprocessor1_Model06</td></tr>\n",
       "\t<tr><td> 9</td><td>roc_auc </td><td>hand_till </td><td>0.6364167</td><td>5</td><td>0.03440582</td><td>Preprocessor1_Model06</td></tr>\n",
       "\t<tr><td>10</td><td>accuracy</td><td>multiclass</td><td>0.3601891</td><td>5</td><td>0.05792770</td><td>Preprocessor1_Model07</td></tr>\n",
       "\t<tr><td>10</td><td>roc_auc </td><td>hand_till </td><td>0.6361296</td><td>5</td><td>0.03575621</td><td>Preprocessor1_Model07</td></tr>\n",
       "\t<tr><td>11</td><td>accuracy</td><td>multiclass</td><td>0.3627101</td><td>5</td><td>0.05099776</td><td>Preprocessor1_Model08</td></tr>\n",
       "\t<tr><td>11</td><td>roc_auc </td><td>hand_till </td><td>0.6343380</td><td>5</td><td>0.03450373</td><td>Preprocessor1_Model08</td></tr>\n",
       "\t<tr><td>13</td><td>accuracy</td><td>multiclass</td><td>0.3601891</td><td>5</td><td>0.05334242</td><td>Preprocessor1_Model09</td></tr>\n",
       "\t<tr><td>13</td><td>roc_auc </td><td>hand_till </td><td>0.6383194</td><td>5</td><td>0.03885797</td><td>Preprocessor1_Model09</td></tr>\n",
       "\t<tr><td>14</td><td>accuracy</td><td>multiclass</td><td>0.3601891</td><td>5</td><td>0.05792770</td><td>Preprocessor1_Model10</td></tr>\n",
       "\t<tr><td>14</td><td>roc_auc </td><td>hand_till </td><td>0.6364468</td><td>5</td><td>0.03786065</td><td>Preprocessor1_Model10</td></tr>\n",
       "</tbody>\n",
       "</table>\n"
      ],
      "text/latex": [
       "A tibble: 20 × 7\n",
       "\\begin{tabular}{lllllll}\n",
       " neighbors & .metric & .estimator & mean & n & std\\_err & .config\\\\\n",
       " <int> & <chr> & <chr> & <dbl> & <int> & <dbl> & <chr>\\\\\n",
       "\\hline\n",
       "\t  2 & accuracy & multiclass & 0.2674370 & 5 & 0.04095238 & Preprocessor1\\_Model01\\\\\n",
       "\t  2 & roc\\_auc  & hand\\_till  & 0.5291806 & 5 & 0.05621492 & Preprocessor1\\_Model01\\\\\n",
       "\t  4 & accuracy & multiclass & 0.3542017 & 5 & 0.06418953 & Preprocessor1\\_Model02\\\\\n",
       "\t  4 & roc\\_auc  & hand\\_till  & 0.6086435 & 5 & 0.05874180 & Preprocessor1\\_Model02\\\\\n",
       "\t  5 & accuracy & multiclass & 0.3659664 & 5 & 0.05965943 & Preprocessor1\\_Model03\\\\\n",
       "\t  5 & roc\\_auc  & hand\\_till  & 0.6038333 & 5 & 0.03651284 & Preprocessor1\\_Model03\\\\\n",
       "\t  6 & accuracy & multiclass & 0.3348739 & 5 & 0.03100146 & Preprocessor1\\_Model04\\\\\n",
       "\t  6 & roc\\_auc  & hand\\_till  & 0.6208565 & 5 & 0.02314987 & Preprocessor1\\_Model04\\\\\n",
       "\t  7 & accuracy & multiclass & 0.3591387 & 5 & 0.02753243 & Preprocessor1\\_Model05\\\\\n",
       "\t  7 & roc\\_auc  & hand\\_till  & 0.6194398 & 5 & 0.02973580 & Preprocessor1\\_Model05\\\\\n",
       "\t  9 & accuracy & multiclass & 0.3466387 & 5 & 0.05231050 & Preprocessor1\\_Model06\\\\\n",
       "\t  9 & roc\\_auc  & hand\\_till  & 0.6364167 & 5 & 0.03440582 & Preprocessor1\\_Model06\\\\\n",
       "\t 10 & accuracy & multiclass & 0.3601891 & 5 & 0.05792770 & Preprocessor1\\_Model07\\\\\n",
       "\t 10 & roc\\_auc  & hand\\_till  & 0.6361296 & 5 & 0.03575621 & Preprocessor1\\_Model07\\\\\n",
       "\t 11 & accuracy & multiclass & 0.3627101 & 5 & 0.05099776 & Preprocessor1\\_Model08\\\\\n",
       "\t 11 & roc\\_auc  & hand\\_till  & 0.6343380 & 5 & 0.03450373 & Preprocessor1\\_Model08\\\\\n",
       "\t 13 & accuracy & multiclass & 0.3601891 & 5 & 0.05334242 & Preprocessor1\\_Model09\\\\\n",
       "\t 13 & roc\\_auc  & hand\\_till  & 0.6383194 & 5 & 0.03885797 & Preprocessor1\\_Model09\\\\\n",
       "\t 14 & accuracy & multiclass & 0.3601891 & 5 & 0.05792770 & Preprocessor1\\_Model10\\\\\n",
       "\t 14 & roc\\_auc  & hand\\_till  & 0.6364468 & 5 & 0.03786065 & Preprocessor1\\_Model10\\\\\n",
       "\\end{tabular}\n"
      ],
      "text/markdown": [
       "\n",
       "A tibble: 20 × 7\n",
       "\n",
       "| neighbors &lt;int&gt; | .metric &lt;chr&gt; | .estimator &lt;chr&gt; | mean &lt;dbl&gt; | n &lt;int&gt; | std_err &lt;dbl&gt; | .config &lt;chr&gt; |\n",
       "|---|---|---|---|---|---|---|\n",
       "|  2 | accuracy | multiclass | 0.2674370 | 5 | 0.04095238 | Preprocessor1_Model01 |\n",
       "|  2 | roc_auc  | hand_till  | 0.5291806 | 5 | 0.05621492 | Preprocessor1_Model01 |\n",
       "|  4 | accuracy | multiclass | 0.3542017 | 5 | 0.06418953 | Preprocessor1_Model02 |\n",
       "|  4 | roc_auc  | hand_till  | 0.6086435 | 5 | 0.05874180 | Preprocessor1_Model02 |\n",
       "|  5 | accuracy | multiclass | 0.3659664 | 5 | 0.05965943 | Preprocessor1_Model03 |\n",
       "|  5 | roc_auc  | hand_till  | 0.6038333 | 5 | 0.03651284 | Preprocessor1_Model03 |\n",
       "|  6 | accuracy | multiclass | 0.3348739 | 5 | 0.03100146 | Preprocessor1_Model04 |\n",
       "|  6 | roc_auc  | hand_till  | 0.6208565 | 5 | 0.02314987 | Preprocessor1_Model04 |\n",
       "|  7 | accuracy | multiclass | 0.3591387 | 5 | 0.02753243 | Preprocessor1_Model05 |\n",
       "|  7 | roc_auc  | hand_till  | 0.6194398 | 5 | 0.02973580 | Preprocessor1_Model05 |\n",
       "|  9 | accuracy | multiclass | 0.3466387 | 5 | 0.05231050 | Preprocessor1_Model06 |\n",
       "|  9 | roc_auc  | hand_till  | 0.6364167 | 5 | 0.03440582 | Preprocessor1_Model06 |\n",
       "| 10 | accuracy | multiclass | 0.3601891 | 5 | 0.05792770 | Preprocessor1_Model07 |\n",
       "| 10 | roc_auc  | hand_till  | 0.6361296 | 5 | 0.03575621 | Preprocessor1_Model07 |\n",
       "| 11 | accuracy | multiclass | 0.3627101 | 5 | 0.05099776 | Preprocessor1_Model08 |\n",
       "| 11 | roc_auc  | hand_till  | 0.6343380 | 5 | 0.03450373 | Preprocessor1_Model08 |\n",
       "| 13 | accuracy | multiclass | 0.3601891 | 5 | 0.05334242 | Preprocessor1_Model09 |\n",
       "| 13 | roc_auc  | hand_till  | 0.6383194 | 5 | 0.03885797 | Preprocessor1_Model09 |\n",
       "| 14 | accuracy | multiclass | 0.3601891 | 5 | 0.05792770 | Preprocessor1_Model10 |\n",
       "| 14 | roc_auc  | hand_till  | 0.6364468 | 5 | 0.03786065 | Preprocessor1_Model10 |\n",
       "\n"
      ],
      "text/plain": [
       "   neighbors .metric  .estimator mean      n std_err    .config              \n",
       "1   2        accuracy multiclass 0.2674370 5 0.04095238 Preprocessor1_Model01\n",
       "2   2        roc_auc  hand_till  0.5291806 5 0.05621492 Preprocessor1_Model01\n",
       "3   4        accuracy multiclass 0.3542017 5 0.06418953 Preprocessor1_Model02\n",
       "4   4        roc_auc  hand_till  0.6086435 5 0.05874180 Preprocessor1_Model02\n",
       "5   5        accuracy multiclass 0.3659664 5 0.05965943 Preprocessor1_Model03\n",
       "6   5        roc_auc  hand_till  0.6038333 5 0.03651284 Preprocessor1_Model03\n",
       "7   6        accuracy multiclass 0.3348739 5 0.03100146 Preprocessor1_Model04\n",
       "8   6        roc_auc  hand_till  0.6208565 5 0.02314987 Preprocessor1_Model04\n",
       "9   7        accuracy multiclass 0.3591387 5 0.02753243 Preprocessor1_Model05\n",
       "10  7        roc_auc  hand_till  0.6194398 5 0.02973580 Preprocessor1_Model05\n",
       "11  9        accuracy multiclass 0.3466387 5 0.05231050 Preprocessor1_Model06\n",
       "12  9        roc_auc  hand_till  0.6364167 5 0.03440582 Preprocessor1_Model06\n",
       "13 10        accuracy multiclass 0.3601891 5 0.05792770 Preprocessor1_Model07\n",
       "14 10        roc_auc  hand_till  0.6361296 5 0.03575621 Preprocessor1_Model07\n",
       "15 11        accuracy multiclass 0.3627101 5 0.05099776 Preprocessor1_Model08\n",
       "16 11        roc_auc  hand_till  0.6343380 5 0.03450373 Preprocessor1_Model08\n",
       "17 13        accuracy multiclass 0.3601891 5 0.05334242 Preprocessor1_Model09\n",
       "18 13        roc_auc  hand_till  0.6383194 5 0.03885797 Preprocessor1_Model09\n",
       "19 14        accuracy multiclass 0.3601891 5 0.05792770 Preprocessor1_Model10\n",
       "20 14        roc_auc  hand_till  0.6364468 5 0.03786065 Preprocessor1_Model10"
      ]
     },
     "metadata": {},
     "output_type": "display_data"
    }
   ],
   "source": [
    "set.seed(45768)\n",
    "\n",
    "heart_recipe <- recipe(cp ~ age + trestbps + chol + thalach + oldpeak , data = training_data) |>\n",
    "                step_scale(all_predictors()) |>\n",
    "                step_center(all_predictors())\n",
    "\n",
    "knn_tune <- nearest_neighbor(weight_func = \"rectangular\", neighbors = tune()) |>\n",
    "             set_engine(\"kknn\") |>\n",
    "             set_mode(\"classification\")\n",
    "\n",
    "heart_vfold <- vfold_cv(training_data, v = 5, strata = cp)\n",
    "\n",
    "knn_results <- workflow() |>\n",
    "               add_recipe(heart_recipe) |>\n",
    "               add_model(knn_tune) |>\n",
    "               tune_grid(resamples = heart_vfold, grid = 10) |>\n",
    "               collect_metrics()\n"
   ]
  },
  {
   "cell_type": "code",
   "execution_count": 13,
   "id": "d3dfdeb3-9e5b-475b-b9b3-730c0d3bb0e5",
   "metadata": {},
   "outputs": [
    {
     "data": {
      "text/html": [
       "5"
      ],
      "text/latex": [
       "5"
      ],
      "text/markdown": [
       "5"
      ],
      "text/plain": [
       "[1] 5"
      ]
     },
     "metadata": {},
     "output_type": "display_data"
    },
    {
     "data": {
      "image/png": "[encoded data removed]",
      "text/plain": [
       "plot without title"
      ]
     },
     "metadata": {
      "image/png": {
       "height": 420,
       "width": 720
      }
     },
     "output_type": "display_data"
    }
   ],
   "source": [
    "accuracies <-  knn_results |> \n",
    "               filter(.metric == \"accuracy\")\n",
    "\n",
    "accuracy_versus_k <-   ggplot(accuracies, aes(x = neighbors, y = mean))+\n",
    "                       geom_point() +\n",
    "                       geom_line() +\n",
    "                       labs(x = \"Neighbors\", y = \"Accuracy Estimate\") +\n",
    "                       scale_x_continuous(breaks = seq(0, 14, by = 1)) +  # adjusting the x-axis\n",
    "                       scale_y_continuous(limits = c(0, 1.0)) + # adjusting the y-axis\n",
    "                       ggtitle(\"K v.s. Accuracy\") +\n",
    "                       theme(text = element_text(size = 20))\n",
    "            \n",
    "accuracy_versus_k\n",
    "\n",
    "k_optimal <- accuracies |>\n",
    "             arrange(desc(mean)) |>\n",
    "             select(neighbors) |>\n",
    "             slice(1) |>\n",
    "             pull()\n",
    "\n",
    "k_optimal"
   ]
  },
  {
   "cell_type": "code",
   "execution_count": 14,
   "id": "eb3e122c-c427-4c53-a3f1-69aa03316d04",
   "metadata": {},
   "outputs": [
    {
     "name": "stdout",
     "output_type": "stream",
     "text": [
      "[1] \"Final Accuracy:\"\n",
      "[1] 0.5925926\n"
     ]
    }
   ],
   "source": [
    "knn_fit <- nearest_neighbor(weight_func = \"rectangular\", neighbors = k_optimal) |>\n",
    "           set_engine(\"kknn\") |>\n",
    "           set_mode(\"classification\")\n",
    "\n",
    "k_workflow <- workflow() |>\n",
    "              add_recipe(heart_recipe) |>\n",
    "              add_model(knn_fit) |>\n",
    "              fit(data = testing_data) \n",
    "\n",
    "predicted <- predict(k_workflow, testing_data) |>\n",
    "             bind_cols(testing_data)\n",
    "\n",
    "# compute the accuracy\n",
    "results <-  predicted |>\n",
    "            metrics(truth = cp, estimate = .pred_class) |>\n",
    "            filter(.metric == \"accuracy\") |>\n",
    "            select(.estimate) |>\n",
    "            pull()\n",
    "\n",
    "print(\"Final Accuracy:\")\n",
    "print(results)"
   ]
  },
  {
   "cell_type": "markdown",
   "id": "c3179d98-dd69-404a-8f33-d2c4ae7c9e34",
   "metadata": {},
   "source": [
    "From the above code, we found that k = 5 is the best number to choose and we got the final accuracy of about 59% on the testing data. "
   ]
  },
  {
   "cell_type": "markdown",
   "id": "cf6a895e-4225-48ba-90d6-b6c3c59cddc6",
   "metadata": {},
   "source": [
    "This is not a really high accuracy but it was way better than what we expect. We observed from the distribution of predictor graph that all four chest pain basicly have the same mean value. Which means that there won't be a really good determining predictor to decide which chest pain is which. But even that the final accuracy was about 59% (better than 25% as we thought it would be), we think that the model needs improvements. Giving it more data for training is an option since that the data we used for training is only about 80 observations."
   ]
  },
  {
   "cell_type": "markdown",
   "id": "263482c3-a65d-43f8-8960-6822695bdcf8",
   "metadata": {},
   "source": [
    "If our model could be improved to have a higher accuracy:\n",
    "Our model can help with a faster detection of the type of chest pain and hence a proper treatment\n",
    "can be given to a person in time. The model can also be used to study how the type of chest pain \n",
    "varies with different factors and doctors and scientists would be able to get more information \n",
    "about the same.\n",
    "\n",
    "This could lead to discovering a new type of chest pain that our model might not be able to predict.\n",
    "We can also study the data more and predict some additional symptoms of a particular type of chest pain."
   ]
  },
  {
   "cell_type": "markdown",
   "id": "1eb0090c-2a12-419d-8179-7a36480b3208",
   "metadata": {},
   "source": [
    "# References"
   ]
  },
  {
   "cell_type": "markdown",
   "id": "bf0dd1d6-f7d1-43c0-aefe-cf1ba5fb2491",
   "metadata": {},
   "source": [
    "https://pubmed.ncbi.nlm.nih.gov/20494662/\n",
    "This is a Study from the National Library of Medicine which seeks to evaluate how effective typical anginal pain and atypical/nonanginal pain (cp type 1,2 and 3 respectively) are at predicting myocardial ischemia, a CVID where heart blood to the flow is reduced.\n",
    "\n",
    "https://www.who.int/health-topics/cardiovascular-diseases/#tab=tab_1\n",
    "This is a general overview of Cardivascular disease by the World Health Organization, talking about its symptoms, treatments and general information such as it's estimated yearly mortality rate of 17.9 million."
   ]
  },
  {
   "cell_type": "markdown",
   "id": "1df4b8dc-b13f-4041-844e-5591745eca01",
   "metadata": {},
   "source": [
    "# Glossary"
   ]
  },
  {
   "cell_type": "markdown",
   "id": "02f77963-6d53-4d1d-996d-f0dd3f5dc295",
   "metadata": {},
   "source": [
    "X1. #3 (age)\n",
    "\n",
    "X2. #4 (sex)\\\n",
    "(1 = male; 0 = female)\n",
    "\n",
    "X3. #9 (cp)\\\n",
    "(chest pain type)\n",
    "-- Value 1: typical angina\n",
    "-- Value 2: atypical angina\n",
    "-- Value 3: non-anginal pain\n",
    "-- Value 4: asymptomatic\n",
    "\n",
    "X4. #10 (trestbps)\\\n",
    "resting blood pressure (in mm Hg on admission to the hospital)\n",
    "\n",
    "X5. #12 (chol)\\\n",
    "serum cholestoral in mg/dl\n",
    "\n",
    "X6. #16 (fbs)\\\n",
    "(fasting blood sugar > 120 mg/dl) (1 = true; 0 = false)\n",
    "\n",
    "X7. #19 (restecg)\\\n",
    " resting electrocardiographic results\n",
    "-- Value 0: normal\n",
    "-- Value 1: having ST-T wave abnormality (T wave inversions and/or ST elevation or depression of > 0.05 mV)\n",
    "-- Value 2: showing probable or definite left ventricular hypertrophy by Estes' criteria\n",
    "\n",
    "X8. #32 (thalach)\\\n",
    "maximum heart rate achieved\n",
    "\n",
    "X9. #38 (exang)\\\n",
    "exercise induced angina (1 = yes; 0 = no)\n",
    "\n",
    "X10. #40 (oldpeak)\\\n",
    "ST depression induced by exercise relative to rest\n",
    "\n",
    "X11. #41 (slope)\\\n",
    "the slope of the peak exercise ST segment\n",
    "-- Value 1: upsloping\n",
    "-- Value 2: flat\n",
    "-- Value 3: downsloping\n",
    "\n",
    "X12. #44 (ca)\\\n",
    "number of major vessels (0-3) colored by flourosopy\n",
    "\n",
    "X13. #51 (thal)\\\n",
    "3 = normal; 6 = fixed defect; 7 = reversable defect\n",
    "\n",
    "X14. #58 (num) (the predicted attribute)\\\n",
    "diagnosis of heart disease (angiographic disease status)\n",
    "-- Value 0: < 50% diameter narrowing\n",
    "-- Value 1: > 50% diameter narrowing\n",
    "(in any major vessel: attributes 59 through 68 are vessels)"
   ]
  }
 ],
 "metadata": {
  "kernelspec": {
   "display_name": "R",
   "language": "R",
   "name": "ir"
  },
  "language_info": {
   "codemirror_mode": "r",
   "file_extension": ".r",
   "mimetype": "text/x-r-source",
   "name": "R",
   "pygments_lexer": "r",
   "version": "4.1.3"
  }
 },
 "nbformat": 4,
 "nbformat_minor": 5
}
