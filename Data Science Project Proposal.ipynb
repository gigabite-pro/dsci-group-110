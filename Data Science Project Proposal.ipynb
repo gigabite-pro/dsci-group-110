{
 "cells": [
  {
   "cell_type": "markdown",
   "id": "bda34852",
   "metadata": {},
   "source": [
    "# Predicting Angiographic Disease Status"
   ]
  },
  {
   "cell_type": "markdown",
   "id": "d7e79122",
   "metadata": {},
   "source": [
    "# Introduction\n",
    "With the advent of globalisation, we have seen an exponential improvement in the quality of life for people globally. Inventions from plastics and the internet have revolutionised the way human society functions. With globalisation, we saw both industrialisation and innovations in food technology. But, like everything, this has positively and negatively impacted human life. \n",
    "\n",
    "In our modern times, we have witnessed exorbitant increases in the prevalence rates of diseases fueled by unhealthy lifestyles, which have long-lasting effects on people's lives.\n",
    "\n",
    "Angiographic disease refers to a condition which is associated with blood vessels and blood flow through these vessels. With this project, we are analysing the *processed.cleveland.data* file and using the data to predict the type of chest pain an individual has in the event the individual is sick.\n",
    "\n",
    "Chest pains are classified into the four following types:\n",
    "1. Typical angina\n",
    "2. Atypical angina\n",
    "3. Non-anginal pain\n",
    "4. Asymptomatic"
   ]
  },
  {
   "cell_type": "markdown",
   "id": "ce0af211",
   "metadata": {},
   "source": [
    "# Preliminary Exploratory Data Analysis"
   ]
  },
  {
   "cell_type": "code",
   "execution_count": 22,
   "id": "02afc5e4",
   "metadata": {
    "tags": []
   },
   "outputs": [],
   "source": [
    "# Importing Necessary Libraries\n",
    "library(tidyverse)\n",
    "library(testthat)\n",
    "library(digest)\n",
    "library(repr)\n",
    "library(tidymodels)\n",
    "\n",
    "\n",
    "# To make the code cleaner to easy to read\n",
    "options(repr.matrix.max.rows = 6)"
   ]
  },
  {
   "cell_type": "code",
   "execution_count": 23,
   "id": "171b9658",
   "metadata": {
    "tags": []
   },
   "outputs": [
    {
     "name": "stderr",
     "output_type": "stream",
     "text": [
      "\u001b[1mRows: \u001b[22m\u001b[34m303\u001b[39m \u001b[1mColumns: \u001b[22m\u001b[34m14\u001b[39m\n",
      "\u001b[36m──\u001b[39m \u001b[1mColumn specification\u001b[22m \u001b[36m────────────────────────────────────────────────────────\u001b[39m\n",
      "\u001b[1mDelimiter:\u001b[22m \",\"\n",
      "\u001b[31mchr\u001b[39m  (2): X12, X13\n",
      "\u001b[32mdbl\u001b[39m (12): X1, X2, X3, X4, X5, X6, X7, X8, X9, X10, X11, X14\n",
      "\n",
      "\u001b[36mℹ\u001b[39m Use `spec()` to retrieve the full column specification for this data.\n",
      "\u001b[36mℹ\u001b[39m Specify the column types or set `show_col_types = FALSE` to quiet this message.\n"
     ]
    },
    {
     "data": {
      "text/html": [
       "<table class=\"dataframe\">\n",
       "<caption>A tibble: 303 × 14</caption>\n",
       "<thead>\n",
       "\t<tr><th scope=col>X1</th><th scope=col>X2</th><th scope=col>X3</th><th scope=col>X4</th><th scope=col>X5</th><th scope=col>X6</th><th scope=col>X7</th><th scope=col>X8</th><th scope=col>X9</th><th scope=col>X10</th><th scope=col>X11</th><th scope=col>X12</th><th scope=col>X13</th><th scope=col>X14</th></tr>\n",
       "\t<tr><th scope=col>&lt;dbl&gt;</th><th scope=col>&lt;dbl&gt;</th><th scope=col>&lt;dbl&gt;</th><th scope=col>&lt;dbl&gt;</th><th scope=col>&lt;dbl&gt;</th><th scope=col>&lt;dbl&gt;</th><th scope=col>&lt;dbl&gt;</th><th scope=col>&lt;dbl&gt;</th><th scope=col>&lt;dbl&gt;</th><th scope=col>&lt;dbl&gt;</th><th scope=col>&lt;dbl&gt;</th><th scope=col>&lt;chr&gt;</th><th scope=col>&lt;chr&gt;</th><th scope=col>&lt;dbl&gt;</th></tr>\n",
       "</thead>\n",
       "<tbody>\n",
       "\t<tr><td>63</td><td>1</td><td>1</td><td>145</td><td>233</td><td>1</td><td>2</td><td>150</td><td>0</td><td>2.3</td><td>3</td><td>0.0</td><td>6.0</td><td>0</td></tr>\n",
       "\t<tr><td>67</td><td>1</td><td>4</td><td>160</td><td>286</td><td>0</td><td>2</td><td>108</td><td>1</td><td>1.5</td><td>2</td><td>3.0</td><td>3.0</td><td>2</td></tr>\n",
       "\t<tr><td>67</td><td>1</td><td>4</td><td>120</td><td>229</td><td>0</td><td>2</td><td>129</td><td>1</td><td>2.6</td><td>2</td><td>2.0</td><td>7.0</td><td>1</td></tr>\n",
       "\t<tr><td>⋮</td><td>⋮</td><td>⋮</td><td>⋮</td><td>⋮</td><td>⋮</td><td>⋮</td><td>⋮</td><td>⋮</td><td>⋮</td><td>⋮</td><td>⋮</td><td>⋮</td><td>⋮</td></tr>\n",
       "\t<tr><td>57</td><td>1</td><td>4</td><td>130</td><td>131</td><td>0</td><td>0</td><td>115</td><td>1</td><td>1.2</td><td>2</td><td>1.0</td><td>7.0</td><td>3</td></tr>\n",
       "\t<tr><td>57</td><td>0</td><td>2</td><td>130</td><td>236</td><td>0</td><td>2</td><td>174</td><td>0</td><td>0.0</td><td>2</td><td>1.0</td><td>3.0</td><td>1</td></tr>\n",
       "\t<tr><td>38</td><td>1</td><td>3</td><td>138</td><td>175</td><td>0</td><td>0</td><td>173</td><td>0</td><td>0.0</td><td>1</td><td>?  </td><td>3.0</td><td>0</td></tr>\n",
       "</tbody>\n",
       "</table>\n"
      ],
      "text/latex": [
       "A tibble: 303 × 14\n",
       "\\begin{tabular}{llllllllllllll}\n",
       " X1 & X2 & X3 & X4 & X5 & X6 & X7 & X8 & X9 & X10 & X11 & X12 & X13 & X14\\\\\n",
       " <dbl> & <dbl> & <dbl> & <dbl> & <dbl> & <dbl> & <dbl> & <dbl> & <dbl> & <dbl> & <dbl> & <chr> & <chr> & <dbl>\\\\\n",
       "\\hline\n",
       "\t 63 & 1 & 1 & 145 & 233 & 1 & 2 & 150 & 0 & 2.3 & 3 & 0.0 & 6.0 & 0\\\\\n",
       "\t 67 & 1 & 4 & 160 & 286 & 0 & 2 & 108 & 1 & 1.5 & 2 & 3.0 & 3.0 & 2\\\\\n",
       "\t 67 & 1 & 4 & 120 & 229 & 0 & 2 & 129 & 1 & 2.6 & 2 & 2.0 & 7.0 & 1\\\\\n",
       "\t ⋮ & ⋮ & ⋮ & ⋮ & ⋮ & ⋮ & ⋮ & ⋮ & ⋮ & ⋮ & ⋮ & ⋮ & ⋮ & ⋮\\\\\n",
       "\t 57 & 1 & 4 & 130 & 131 & 0 & 0 & 115 & 1 & 1.2 & 2 & 1.0 & 7.0 & 3\\\\\n",
       "\t 57 & 0 & 2 & 130 & 236 & 0 & 2 & 174 & 0 & 0.0 & 2 & 1.0 & 3.0 & 1\\\\\n",
       "\t 38 & 1 & 3 & 138 & 175 & 0 & 0 & 173 & 0 & 0.0 & 1 & ?   & 3.0 & 0\\\\\n",
       "\\end{tabular}\n"
      ],
      "text/markdown": [
       "\n",
       "A tibble: 303 × 14\n",
       "\n",
       "| X1 &lt;dbl&gt; | X2 &lt;dbl&gt; | X3 &lt;dbl&gt; | X4 &lt;dbl&gt; | X5 &lt;dbl&gt; | X6 &lt;dbl&gt; | X7 &lt;dbl&gt; | X8 &lt;dbl&gt; | X9 &lt;dbl&gt; | X10 &lt;dbl&gt; | X11 &lt;dbl&gt; | X12 &lt;chr&gt; | X13 &lt;chr&gt; | X14 &lt;dbl&gt; |\n",
       "|---|---|---|---|---|---|---|---|---|---|---|---|---|---|\n",
       "| 63 | 1 | 1 | 145 | 233 | 1 | 2 | 150 | 0 | 2.3 | 3 | 0.0 | 6.0 | 0 |\n",
       "| 67 | 1 | 4 | 160 | 286 | 0 | 2 | 108 | 1 | 1.5 | 2 | 3.0 | 3.0 | 2 |\n",
       "| 67 | 1 | 4 | 120 | 229 | 0 | 2 | 129 | 1 | 2.6 | 2 | 2.0 | 7.0 | 1 |\n",
       "| ⋮ | ⋮ | ⋮ | ⋮ | ⋮ | ⋮ | ⋮ | ⋮ | ⋮ | ⋮ | ⋮ | ⋮ | ⋮ | ⋮ |\n",
       "| 57 | 1 | 4 | 130 | 131 | 0 | 0 | 115 | 1 | 1.2 | 2 | 1.0 | 7.0 | 3 |\n",
       "| 57 | 0 | 2 | 130 | 236 | 0 | 2 | 174 | 0 | 0.0 | 2 | 1.0 | 3.0 | 1 |\n",
       "| 38 | 1 | 3 | 138 | 175 | 0 | 0 | 173 | 0 | 0.0 | 1 | ?   | 3.0 | 0 |\n",
       "\n"
      ],
      "text/plain": [
       "    X1 X2 X3 X4  X5  X6 X7 X8  X9 X10 X11 X12 X13 X14\n",
       "1   63 1  1  145 233 1  2  150 0  2.3 3   0.0 6.0 0  \n",
       "2   67 1  4  160 286 0  2  108 1  1.5 2   3.0 3.0 2  \n",
       "3   67 1  4  120 229 0  2  129 1  2.6 2   2.0 7.0 1  \n",
       "⋮   ⋮  ⋮  ⋮  ⋮   ⋮   ⋮  ⋮  ⋮   ⋮  ⋮   ⋮   ⋮   ⋮   ⋮  \n",
       "301 57 1  4  130 131 0  0  115 1  1.2 2   1.0 7.0 3  \n",
       "302 57 0  2  130 236 0  2  174 0  0.0 2   1.0 3.0 1  \n",
       "303 38 1  3  138 175 0  0  173 0  0.0 1   ?   3.0 0  "
      ]
     },
     "metadata": {},
     "output_type": "display_data"
    }
   ],
   "source": [
    "# Loadind Data\n",
    "url <- \"https://archive.ics.uci.edu/ml/machine-learning-databases/heart-disease/processed.cleveland.data\"\n",
    "heart_disease_data <- read_csv(url, \n",
    "                               col_names = FALSE)\n",
    "\n",
    "# Covering Data Frame To Tibble\n",
    "heart_disease_data <- as_tibble(heart_disease_data)\n",
    "\n",
    "# Checking Data\n",
    "heart_disease_data"
   ]
  },
  {
   "cell_type": "code",
   "execution_count": 24,
   "id": "de909e10",
   "metadata": {},
   "outputs": [],
   "source": [
    "# Preprocessing Of Data\n",
    "heart_disease_data <-   heart_disease_data |>\n",
    "                        mutate(X2  = as.factor(X2) ,\n",
    "                               X3  = as.factor(X3) ,\n",
    "                               X6  = as.factor(X6) ,\n",
    "                               X7  = as.factor(X7) ,\n",
    "                               X9  = as.factor(X9) ,\n",
    "                               X11 = as.factor(X11),\n",
    "                               X12 = as.factor(X12),\n",
    "                               X13 = as.factor(X13),\n",
    "                               X14 = as.factor(X14))\n",
    "\n",
    "# Renaming Columns\n",
    "names <- c(\"age\",\"sex\",\"cp\",\"trestbps\",\"chol\",\"fbs\",\"restecg\",\"thalach\",\"exang\",\"oldpeak\",\"slope\",\"ca\",\"thal\",\"num\")\n",
    "colnames(heart_disease_data) <- make.names(names)"
   ]
  },
  {
   "cell_type": "code",
   "execution_count": 25,
   "id": "c19747bf-85bf-43c7-87e2-7d8f03265b4c",
   "metadata": {},
   "outputs": [
    {
     "data": {
      "text/html": [
       "<table class=\"dataframe\">\n",
       "<caption>A tibble: 4 × 3</caption>\n",
       "<thead>\n",
       "\t<tr><th scope=col>cp</th><th scope=col>count</th><th scope=col>percentage</th></tr>\n",
       "\t<tr><th scope=col>&lt;fct&gt;</th><th scope=col>&lt;int&gt;</th><th scope=col>&lt;dbl&gt;</th></tr>\n",
       "</thead>\n",
       "<tbody>\n",
       "\t<tr><td>1</td><td> 23</td><td> 7.590759</td></tr>\n",
       "\t<tr><td>2</td><td> 50</td><td>16.501650</td></tr>\n",
       "\t<tr><td>3</td><td> 85</td><td>28.052805</td></tr>\n",
       "\t<tr><td>4</td><td>144</td><td>47.524752</td></tr>\n",
       "</tbody>\n",
       "</table>\n"
      ],
      "text/latex": [
       "A tibble: 4 × 3\n",
       "\\begin{tabular}{lll}\n",
       " cp & count & percentage\\\\\n",
       " <fct> & <int> & <dbl>\\\\\n",
       "\\hline\n",
       "\t 1 &  23 &  7.590759\\\\\n",
       "\t 2 &  50 & 16.501650\\\\\n",
       "\t 3 &  85 & 28.052805\\\\\n",
       "\t 4 & 144 & 47.524752\\\\\n",
       "\\end{tabular}\n"
      ],
      "text/markdown": [
       "\n",
       "A tibble: 4 × 3\n",
       "\n",
       "| cp &lt;fct&gt; | count &lt;int&gt; | percentage &lt;dbl&gt; |\n",
       "|---|---|---|\n",
       "| 1 |  23 |  7.590759 |\n",
       "| 2 |  50 | 16.501650 |\n",
       "| 3 |  85 | 28.052805 |\n",
       "| 4 | 144 | 47.524752 |\n",
       "\n"
      ],
      "text/plain": [
       "  cp count percentage\n",
       "1 1   23    7.590759 \n",
       "2 2   50   16.501650 \n",
       "3 3   85   28.052805 \n",
       "4 4  144   47.524752 "
      ]
     },
     "metadata": {},
     "output_type": "display_data"
    }
   ],
   "source": [
    "#Showing row count for each chest pain type\n",
    "num_obs <- nrow(heart_disease_data)\n",
    "heart_disease_data |>\n",
    "slice(1:302) |>\n",
    "  group_by(cp) |>\n",
    "  summarize(\n",
    "    count = n(),\n",
    "    percentage = n() / num_obs * 100)"
   ]
  },
  {
   "cell_type": "markdown",
   "id": "8a72cbd8-d3cf-4fc7-961e-fbd42050b30f",
   "metadata": {},
   "source": [
    "As the data distribution is uneven in this training set, the model will prefer 4 and the prediction will be inaccurate. Therefore, we will cut the data to ensure even distrubution in our training set."
   ]
  },
  {
   "cell_type": "code",
   "execution_count": 37,
   "id": "c05275da-6e54-4dc7-9056-601790694e71",
   "metadata": {
    "tags": []
   },
   "outputs": [],
   "source": [
    "#Getting a random number of rows (between 20-30) with cp 4\n",
    "set.seed(45768)\n",
    "random <- runif(1,20,30)\n",
    "random_number <- round(random, 0)\n",
    "random <- sample(20-30)\n",
    "even_4 <- heart_disease_data |>\n",
    "filter(cp == 4) |>\n",
    "group_by(cp) |>\n",
    "slice(1:random_number)"
   ]
  },
  {
   "cell_type": "code",
   "execution_count": 38,
   "id": "23579537-2360-42fa-a670-75afba6bfe42",
   "metadata": {
    "tags": []
   },
   "outputs": [],
   "source": [
    "#Getting a random number of rows (between 20-30) with cp 3\n",
    "set.seed(457681)\n",
    "random <- runif(1,20,30)\n",
    "random_number <- round(random, 0)\n",
    "random <- sample(20-30)\n",
    "even_3 <- heart_disease_data |>\n",
    "filter(cp == 3) |>\n",
    "group_by(cp) |>\n",
    "slice(1:random_number)"
   ]
  },
  {
   "cell_type": "code",
   "execution_count": 39,
   "id": "6c534056-c2bd-4f74-929a-7ffc3d830e5f",
   "metadata": {
    "tags": []
   },
   "outputs": [],
   "source": [
    "#Getting a random number of rows (between 20-30) with cp 2\n",
    "set.seed(457682)\n",
    "random <- runif(1,20,30)\n",
    "random_number <- round(random, 0)\n",
    "random <- sample(20-30)\n",
    "even_2 <- heart_disease_data |>\n",
    "filter(cp == 2) |>\n",
    "group_by(cp) |>\n",
    "slice(1:random_number)"
   ]
  },
  {
   "cell_type": "code",
   "execution_count": 42,
   "id": "d8abb304-f9e1-4dbf-80f9-6c9622a57cfb",
   "metadata": {
    "tags": []
   },
   "outputs": [
    {
     "data": {
      "text/html": [
       "<table class=\"dataframe\">\n",
       "<caption>A tibble: 89 × 14</caption>\n",
       "<thead>\n",
       "\t<tr><th scope=col>age</th><th scope=col>sex</th><th scope=col>cp</th><th scope=col>trestbps</th><th scope=col>chol</th><th scope=col>fbs</th><th scope=col>restecg</th><th scope=col>thalach</th><th scope=col>exang</th><th scope=col>oldpeak</th><th scope=col>slope</th><th scope=col>ca</th><th scope=col>thal</th><th scope=col>num</th></tr>\n",
       "\t<tr><th scope=col>&lt;dbl&gt;</th><th scope=col>&lt;fct&gt;</th><th scope=col>&lt;fct&gt;</th><th scope=col>&lt;dbl&gt;</th><th scope=col>&lt;dbl&gt;</th><th scope=col>&lt;fct&gt;</th><th scope=col>&lt;fct&gt;</th><th scope=col>&lt;dbl&gt;</th><th scope=col>&lt;fct&gt;</th><th scope=col>&lt;dbl&gt;</th><th scope=col>&lt;fct&gt;</th><th scope=col>&lt;fct&gt;</th><th scope=col>&lt;fct&gt;</th><th scope=col>&lt;fct&gt;</th></tr>\n",
       "</thead>\n",
       "<tbody>\n",
       "\t<tr><td>63</td><td>1</td><td>1</td><td>145</td><td>233</td><td>1</td><td>2</td><td>150</td><td>0</td><td>2.3</td><td>3</td><td>0.0</td><td>6.0</td><td>0</td></tr>\n",
       "\t<tr><td>64</td><td>1</td><td>1</td><td>110</td><td>211</td><td>0</td><td>2</td><td>144</td><td>1</td><td>1.8</td><td>2</td><td>0.0</td><td>3.0</td><td>0</td></tr>\n",
       "\t<tr><td>58</td><td>0</td><td>1</td><td>150</td><td>283</td><td>1</td><td>2</td><td>162</td><td>0</td><td>1.0</td><td>1</td><td>0.0</td><td>3.0</td><td>0</td></tr>\n",
       "\t<tr><td>⋮</td><td>⋮</td><td>⋮</td><td>⋮</td><td>⋮</td><td>⋮</td><td>⋮</td><td>⋮</td><td>⋮</td><td>⋮</td><td>⋮</td><td>⋮</td><td>⋮</td><td>⋮</td></tr>\n",
       "\t<tr><td>46</td><td>0</td><td>3</td><td>142</td><td>177</td><td>0</td><td>2</td><td>160</td><td>1</td><td>1.4</td><td>3</td><td>0.0</td><td>3.0</td><td>0</td></tr>\n",
       "\t<tr><td>54</td><td>0</td><td>3</td><td>135</td><td>304</td><td>1</td><td>0</td><td>170</td><td>0</td><td>0.0</td><td>1</td><td>0.0</td><td>3.0</td><td>0</td></tr>\n",
       "\t<tr><td>60</td><td>1</td><td>3</td><td>140</td><td>185</td><td>0</td><td>2</td><td>155</td><td>0</td><td>3.0</td><td>2</td><td>0.0</td><td>3.0</td><td>1</td></tr>\n",
       "</tbody>\n",
       "</table>\n"
      ],
      "text/latex": [
       "A tibble: 89 × 14\n",
       "\\begin{tabular}{llllllllllllll}\n",
       " age & sex & cp & trestbps & chol & fbs & restecg & thalach & exang & oldpeak & slope & ca & thal & num\\\\\n",
       " <dbl> & <fct> & <fct> & <dbl> & <dbl> & <fct> & <fct> & <dbl> & <fct> & <dbl> & <fct> & <fct> & <fct> & <fct>\\\\\n",
       "\\hline\n",
       "\t 63 & 1 & 1 & 145 & 233 & 1 & 2 & 150 & 0 & 2.3 & 3 & 0.0 & 6.0 & 0\\\\\n",
       "\t 64 & 1 & 1 & 110 & 211 & 0 & 2 & 144 & 1 & 1.8 & 2 & 0.0 & 3.0 & 0\\\\\n",
       "\t 58 & 0 & 1 & 150 & 283 & 1 & 2 & 162 & 0 & 1.0 & 1 & 0.0 & 3.0 & 0\\\\\n",
       "\t ⋮ & ⋮ & ⋮ & ⋮ & ⋮ & ⋮ & ⋮ & ⋮ & ⋮ & ⋮ & ⋮ & ⋮ & ⋮ & ⋮\\\\\n",
       "\t 46 & 0 & 3 & 142 & 177 & 0 & 2 & 160 & 1 & 1.4 & 3 & 0.0 & 3.0 & 0\\\\\n",
       "\t 54 & 0 & 3 & 135 & 304 & 1 & 0 & 170 & 0 & 0.0 & 1 & 0.0 & 3.0 & 0\\\\\n",
       "\t 60 & 1 & 3 & 140 & 185 & 0 & 2 & 155 & 0 & 3.0 & 2 & 0.0 & 3.0 & 1\\\\\n",
       "\\end{tabular}\n"
      ],
      "text/markdown": [
       "\n",
       "A tibble: 89 × 14\n",
       "\n",
       "| age &lt;dbl&gt; | sex &lt;fct&gt; | cp &lt;fct&gt; | trestbps &lt;dbl&gt; | chol &lt;dbl&gt; | fbs &lt;fct&gt; | restecg &lt;fct&gt; | thalach &lt;dbl&gt; | exang &lt;fct&gt; | oldpeak &lt;dbl&gt; | slope &lt;fct&gt; | ca &lt;fct&gt; | thal &lt;fct&gt; | num &lt;fct&gt; |\n",
       "|---|---|---|---|---|---|---|---|---|---|---|---|---|---|\n",
       "| 63 | 1 | 1 | 145 | 233 | 1 | 2 | 150 | 0 | 2.3 | 3 | 0.0 | 6.0 | 0 |\n",
       "| 64 | 1 | 1 | 110 | 211 | 0 | 2 | 144 | 1 | 1.8 | 2 | 0.0 | 3.0 | 0 |\n",
       "| 58 | 0 | 1 | 150 | 283 | 1 | 2 | 162 | 0 | 1.0 | 1 | 0.0 | 3.0 | 0 |\n",
       "| ⋮ | ⋮ | ⋮ | ⋮ | ⋮ | ⋮ | ⋮ | ⋮ | ⋮ | ⋮ | ⋮ | ⋮ | ⋮ | ⋮ |\n",
       "| 46 | 0 | 3 | 142 | 177 | 0 | 2 | 160 | 1 | 1.4 | 3 | 0.0 | 3.0 | 0 |\n",
       "| 54 | 0 | 3 | 135 | 304 | 1 | 0 | 170 | 0 | 0.0 | 1 | 0.0 | 3.0 | 0 |\n",
       "| 60 | 1 | 3 | 140 | 185 | 0 | 2 | 155 | 0 | 3.0 | 2 | 0.0 | 3.0 | 1 |\n",
       "\n"
      ],
      "text/plain": [
       "   age sex cp trestbps chol fbs restecg thalach exang oldpeak slope ca  thal\n",
       "1  63  1   1  145      233  1   2       150     0     2.3     3     0.0 6.0 \n",
       "2  64  1   1  110      211  0   2       144     1     1.8     2     0.0 3.0 \n",
       "3  58  0   1  150      283  1   2       162     0     1.0     1     0.0 3.0 \n",
       "⋮  ⋮   ⋮   ⋮  ⋮        ⋮    ⋮   ⋮       ⋮       ⋮     ⋮       ⋮     ⋮   ⋮   \n",
       "87 46  0   3  142      177  0   2       160     1     1.4     3     0.0 3.0 \n",
       "88 54  0   3  135      304  1   0       170     0     0.0     1     0.0 3.0 \n",
       "89 60  1   3  140      185  0   2       155     0     3.0     2     0.0 3.0 \n",
       "   num\n",
       "1  0  \n",
       "2  0  \n",
       "3  0  \n",
       "⋮  ⋮  \n",
       "87 0  \n",
       "88 0  \n",
       "89 1  "
      ]
     },
     "metadata": {},
     "output_type": "display_data"
    }
   ],
   "source": [
    "#Getting a random number of rows (between 20-30) with cp 1 and combining the other even data sets.\n",
    "even_data <- heart_disease_data |>\n",
    "filter(cp == 1) |>\n",
    "rbind(even_4, even_2, even_3)\n",
    "even_data"
   ]
  },
  {
   "cell_type": "code",
   "execution_count": 36,
   "id": "7716b287-df44-4094-b4bf-e30d15d15793",
   "metadata": {},
   "outputs": [
    {
     "data": {
      "text/html": [
       "<table class=\"dataframe\">\n",
       "<caption>A tibble: 4 × 3</caption>\n",
       "<thead>\n",
       "\t<tr><th scope=col>cp</th><th scope=col>count</th><th scope=col>percentage</th></tr>\n",
       "\t<tr><th scope=col>&lt;fct&gt;</th><th scope=col>&lt;int&gt;</th><th scope=col>&lt;dbl&gt;</th></tr>\n",
       "</thead>\n",
       "<tbody>\n",
       "\t<tr><td>1</td><td>23</td><td>25.84270</td></tr>\n",
       "\t<tr><td>2</td><td>24</td><td>26.96629</td></tr>\n",
       "\t<tr><td>3</td><td>21</td><td>23.59551</td></tr>\n",
       "\t<tr><td>4</td><td>21</td><td>23.59551</td></tr>\n",
       "</tbody>\n",
       "</table>\n"
      ],
      "text/latex": [
       "A tibble: 4 × 3\n",
       "\\begin{tabular}{lll}\n",
       " cp & count & percentage\\\\\n",
       " <fct> & <int> & <dbl>\\\\\n",
       "\\hline\n",
       "\t 1 & 23 & 25.84270\\\\\n",
       "\t 2 & 24 & 26.96629\\\\\n",
       "\t 3 & 21 & 23.59551\\\\\n",
       "\t 4 & 21 & 23.59551\\\\\n",
       "\\end{tabular}\n"
      ],
      "text/markdown": [
       "\n",
       "A tibble: 4 × 3\n",
       "\n",
       "| cp &lt;fct&gt; | count &lt;int&gt; | percentage &lt;dbl&gt; |\n",
       "|---|---|---|\n",
       "| 1 | 23 | 25.84270 |\n",
       "| 2 | 24 | 26.96629 |\n",
       "| 3 | 21 | 23.59551 |\n",
       "| 4 | 21 | 23.59551 |\n",
       "\n"
      ],
      "text/plain": [
       "  cp count percentage\n",
       "1 1  23    25.84270  \n",
       "2 2  24    26.96629  \n",
       "3 3  21    23.59551  \n",
       "4 4  21    23.59551  "
      ]
     },
     "metadata": {},
     "output_type": "display_data"
    }
   ],
   "source": [
    "#row distribution for even data\n",
    "num_obs <- nrow(even_data)\n",
    "even_data |>\n",
    "  group_by(cp) |>\n",
    "  summarize(\n",
    "    count = n(),\n",
    "    percentage = n() / num_obs * 100)"
   ]
  },
  {
   "cell_type": "markdown",
   "id": "21f13706-28a3-4fc7-a904-80d6120f63e2",
   "metadata": {},
   "source": [
    "Now the row distribution is even."
   ]
  },
  {
   "cell_type": "code",
   "execution_count": 31,
   "id": "8a2c5334",
   "metadata": {},
   "outputs": [],
   "source": [
    "#Splitting\n",
    "set.seed(45768)\n",
    "heart_disease_data_split<-initial_split(even_data,prop=.75,strata=\"num\")\n",
    "training_data<-training(heart_disease_data_split)\n",
    "testing_data<-testing(heart_disease_data_split)"
   ]
  },
  {
   "cell_type": "code",
   "execution_count": 32,
   "id": "e11bd936-f7e7-4cf9-8cbc-998fcac269c8",
   "metadata": {},
   "outputs": [
    {
     "data": {
      "text/html": [
       "<table class=\"dataframe\">\n",
       "<caption>A tibble: 1 × 5</caption>\n",
       "<thead>\n",
       "\t<tr><th scope=col>age</th><th scope=col>trestbps</th><th scope=col>chol</th><th scope=col>thalach</th><th scope=col>oldpeak</th></tr>\n",
       "\t<tr><th scope=col>&lt;int&gt;</th><th scope=col>&lt;int&gt;</th><th scope=col>&lt;int&gt;</th><th scope=col>&lt;int&gt;</th><th scope=col>&lt;int&gt;</th></tr>\n",
       "</thead>\n",
       "<tbody>\n",
       "\t<tr><td>54</td><td>134</td><td>243</td><td>154</td><td>1</td></tr>\n",
       "</tbody>\n",
       "</table>\n"
      ],
      "text/latex": [
       "A tibble: 1 × 5\n",
       "\\begin{tabular}{lllll}\n",
       " age & trestbps & chol & thalach & oldpeak\\\\\n",
       " <int> & <int> & <int> & <int> & <int>\\\\\n",
       "\\hline\n",
       "\t 54 & 134 & 243 & 154 & 1\\\\\n",
       "\\end{tabular}\n"
      ],
      "text/markdown": [
       "\n",
       "A tibble: 1 × 5\n",
       "\n",
       "| age &lt;int&gt; | trestbps &lt;int&gt; | chol &lt;int&gt; | thalach &lt;int&gt; | oldpeak &lt;int&gt; |\n",
       "|---|---|---|---|---|\n",
       "| 54 | 134 | 243 | 154 | 1 |\n",
       "\n"
      ],
      "text/plain": [
       "  age trestbps chol thalach oldpeak\n",
       "1 54  134      243  154     1      "
      ]
     },
     "metadata": {},
     "output_type": "display_data"
    }
   ],
   "source": [
    "#Mean of double training data\n",
    "training_data_double<-select(training_data,-sex,-cp,-fbs,-restecg,-exang,-slope,-ca,-thal,-num)\n",
    "\n",
    "training_data_table<-training_data_double|>\n",
    "                            map_df(mean)|>\n",
    "                            map_df(as.integer)\n",
    "training_data_table"
   ]
  },
  {
   "cell_type": "code",
   "execution_count": 69,
   "id": "7ad4a95c-3b67-4cd5-b2d8-a5378a6da2dc",
   "metadata": {},
   "outputs": [
    {
     "name": "stderr",
     "output_type": "stream",
     "text": [
      "Warning message:\n",
      "“Ignoring unknown parameters: binwidth, bins, pad”\n"
     ]
    },
    {
     "ename": "ERROR",
     "evalue": "Error in facet_grid(training_data_factor, cols = cp): object 'cp' not found\n",
     "output_type": "error",
     "traceback": [
      "Error in facet_grid(training_data_factor, cols = cp): object 'cp' not found\nTraceback:\n",
      "1. facet_grid(training_data_factor, cols = cp)"
     ]
    }
   ],
   "source": [
    "training_data_factor<-training_data|>\n",
    "        select(-age,-trestbps,-chol,-thalach,-oldpeak)\n",
    "        \n",
    "                        \n",
    "p = ggplot(training_data_factor, aes(x=sex)) +\n",
    "    geom_histogram(stat=\"count\")\n",
    "p<-facet_grid(training_data_factor,cols=cp)\n",
    "\n",
    "ggsave(\"hist.png\", p, height=4, width=6, dpi=150)\n",
    "p"
   ]
  },
  {
   "cell_type": "code",
   "execution_count": 47,
   "id": "3f35da3d-c213-4c30-bcbb-2f648629d745",
   "metadata": {},
   "outputs": [
    {
     "name": "stderr",
     "output_type": "stream",
     "text": [
      "Warning message:\n",
      "“Ignoring unknown parameters: binwidth, bins, pad”\n",
      "Warning message:\n",
      "“Ignoring unknown parameters: binwidth, bins, pad”\n",
      "Warning message:\n",
      "“Ignoring unknown parameters: binwidth, bins, pad”\n",
      "Warning message:\n",
      "“Ignoring unknown parameters: binwidth, bins, pad”\n",
      "Warning message:\n",
      "“Ignoring unknown parameters: binwidth, bins, pad”\n",
      "Warning message:\n",
      "“Ignoring unknown parameters: binwidth, bins, pad”\n",
      "Warning message:\n",
      "“Ignoring unknown parameters: binwidth, bins, pad”\n",
      "Warning message:\n",
      "“Ignoring unknown parameters: binwidth, bins, pad”\n"
     ]
    },
    {
     "data": {
      "image/png": "[encoded data removed]",
      "text/plain": [
       "plot without title"
      ]
     },
     "metadata": {
      "image/png": {
       "height": 420,
       "width": 420
      }
     },
     "output_type": "display_data"
    },
    {
     "name": "stderr",
     "output_type": "stream",
     "text": [
      "ERROR while rich displaying an object: Error in FUN(X[[i]], ...): object 'restcg' not found\n",
      "\n",
      "Traceback:\n",
      "1. tryCatch(withCallingHandlers({\n",
      " .     if (!mime %in% names(repr::mime2repr)) \n",
      " .         stop(\"No repr_* for mimetype \", mime, \" in repr::mime2repr\")\n",
      " .     rpr <- repr::mime2repr[[mime]](obj)\n",
      " .     if (is.null(rpr)) \n",
      " .         return(NULL)\n",
      " .     prepare_content(is.raw(rpr), rpr)\n",
      " . }, error = error_handler), error = outer_handler)\n",
      "2. tryCatchList(expr, classes, parentenv, handlers)\n",
      "3. tryCatchOne(expr, names, parentenv, handlers[[1L]])\n",
      "4. doTryCatch(return(expr), name, parentenv, handler)\n",
      "5. withCallingHandlers({\n",
      " .     if (!mime %in% names(repr::mime2repr)) \n",
      " .         stop(\"No repr_* for mimetype \", mime, \" in repr::mime2repr\")\n",
      " .     rpr <- repr::mime2repr[[mime]](obj)\n",
      " .     if (is.null(rpr)) \n",
      " .         return(NULL)\n",
      " .     prepare_content(is.raw(rpr), rpr)\n",
      " . }, error = error_handler)\n",
      "6. repr::mime2repr[[mime]](obj)\n",
      "7. repr_text.default(obj)\n",
      "8. paste(capture.output(print(obj)), collapse = \"\\n\")\n",
      "9. capture.output(print(obj))\n",
      "10. withVisible(...elt(i))\n",
      "11. print(obj)\n",
      "12. print.ggplot(obj)\n",
      "13. ggplot_build(x)\n",
      "14. ggplot_build.ggplot(x)\n",
      "15. by_layer(function(l, d) l$compute_aesthetics(d, plot))\n",
      "16. f(l = layers[[i]], d = data[[i]])\n",
      "17. l$compute_aesthetics(d, plot)\n",
      "18. f(..., self = self)\n",
      "19. scales_add_defaults(plot$scales, data, aesthetics, plot$plot_env)\n",
      "20. lapply(aesthetics[new_aesthetics], eval_tidy, data = data)\n",
      "21. FUN(X[[i]], ...)\n"
     ]
    },
    {
     "data": {
      "image/png": "[encoded data removed]",
      "text/plain": [
       "plot without title"
      ]
     },
     "metadata": {
      "image/png": {
       "height": 420,
       "width": 420
      }
     },
     "output_type": "display_data"
    },
    {
     "data": {
      "image/png": "[encoded data removed]",
      "text/plain": [
       "plot without title"
      ]
     },
     "metadata": {
      "image/png": {
       "height": 420,
       "width": 420
      }
     },
     "output_type": "display_data"
    },
    {
     "data": {
      "image/png": "[encoded data removed]",
      "text/plain": [
       "plot without title"
      ]
     },
     "metadata": {
      "image/png": {
       "height": 420,
       "width": 420
      }
     },
     "output_type": "display_data"
    },
    {
     "data": {
      "image/png": "[encoded data removed]",
      "text/plain": [
       "plot without title"
      ]
     },
     "metadata": {
      "image/png": {
       "height": 420,
       "width": 420
      }
     },
     "output_type": "display_data"
    },
    {
     "data": {
      "image/png": "[encoded data removed]",
      "text/plain": [
       "plot without title"
      ]
     },
     "metadata": {
      "image/png": {
       "height": 420,
       "width": 420
      }
     },
     "output_type": "display_data"
    },
    {
     "data": {
      "image/png": "[encoded data removed]",
      "text/plain": [
       "plot without title"
      ]
     },
     "metadata": {
      "image/png": {
       "height": 420,
       "width": 420
      }
     },
     "output_type": "display_data"
    }
   ],
   "source": [
    "options(repr.plot.width = 7, repr.plot.height = 7)\n",
    "plot1<-ggplot(training_data, aes(x=sex))+\n",
    "            geom_histogram(stat=\"count\")\n",
    "plot2<-ggplot(training_data, aes(x=fbs))+\n",
    "            geom_histogram(stat=\"count\")\n",
    "plot3<-ggplot(training_data, aes(x=restcg))+\n",
    "            geom_histogram(stat=\"count\")\n",
    "plot4<-ggplot(training_data, aes(x=exang))+\n",
    "            geom_histogram(stat=\"count\")\n",
    "plot5<-ggplot(training_data, aes(x=slope))+\n",
    "            geom_histogram(stat=\"count\")\n",
    "plot6<-ggplot(training_data, aes(x=ca))+\n",
    "            geom_histogram(stat=\"count\")\n",
    "plot7<-ggplot(training_data, aes(x=thal))+\n",
    "            geom_histogram(stat=\"count\")\n",
    "plot8<-ggplot(training_data, aes(x=num))+\n",
    "            geom_histogram(stat=\"count\")\n",
    "plot1\n",
    "plot2\n",
    "plot3\n",
    "plot4\n",
    "plot5\n",
    "plot6\n",
    "plot7\n",
    "plot8"
   ]
  },
  {
   "cell_type": "markdown",
   "id": "90e48c8c",
   "metadata": {},
   "source": [
    "# Methods"
   ]
  },
  {
   "cell_type": "markdown",
   "id": "5c9c5fee-069e-43ee-b9ee-42c1f2369c6a",
   "metadata": {},
   "source": [
    "1. The first step in the data analysis was to tidy up the data. For instance, the data didn't have any labels in it so we used the colnames() function to rename the default labels to human readable values.\n",
    " 2. The next step includes splitting the data into training and testing data sets so that we can make a prediction model.\n",
    " 3. We needed a recipe to create a prediction model for our analysis but before creating the recipe, we instead performed the cross-validation operation to break up the training set into pieces and then predict the model using tuned neighbours. Following this, we plotted the neighbours versus mean graph and from the confmat and metrics function output to vizualize the best value of K.\n",
    " 4. We used the value of K we got to create the final recipe and add it to our prediction model. We found the best value of K to be  , giving us an accuracy of _%.\n",
    " 5. We then trained our model using the workflow function and then predicted the data in the testing set using our model.\n",
    " 6. We have included all the variables present in the training set since we felt that all of them were affecting the result of the type of chest pain.\n",
    " \n",
    " We're vizualizing the neighbours versus mean line plot from the output we got from the metrics and the conf_mat functions. We used this vizualization to predict the best value of K. The plot clearly described how the mean of the accuracy was changing with change in the value of K."
   ]
  },
  {
   "cell_type": "markdown",
   "id": "230ad6b2-bf3e-4854-a927-5399c2235a60",
   "metadata": {},
   "source": [
    "## Expectations and Outcomes\n",
    "We're expecting to predict the type of chest pain that a person might have based on the symptoms and the health condition of the person. We're using various factors such as age, sex, blood sugar level, etc. to predict the type of chest pain. \n",
    "\n",
    "Our model can help with a faster detection of the type of chest pain and hence a proper treatment can be given to a person in time. The model can also be used to study how the type of chest pain varies with different factors and doctors and scientists would be able to get more information about the same.\n",
    "\n",
    "This could lead to discovering a new type of chest pain that our model might not be able to predict. We can also study the data more and predict some additional symptoms of a particular type of chest pain."
   ]
  },
  {
   "cell_type": "markdown",
   "id": "d32d1b83",
   "metadata": {},
   "source": [
    "# Glossary\n",
    "To help keep track of the terms that may be ambigious to the reader, we have add a glossary so that you can quickly check what different terms mean.\n",
    "\n",
    "X1. (age)\n",
    "\n",
    "X2. (sex)\\\n",
    "(1 = male; 0 = female)\n",
    "\n",
    "X3. (cp)\\\n",
    "(chest pain type)\n",
    "-- Value 1: typical angina\n",
    "-- Value 2: atypical angina\n",
    "-- Value 3: non-anginal pain\n",
    "-- Value 4: asymptomatic\n",
    "\n",
    "X4. (trestbps)\\\n",
    "resting blood pressure (in mm Hg on admission to the hospital)\n",
    "\n",
    "X5. (chol)\\\n",
    "serum cholestoral in mg/dl\n",
    "\n",
    "X6. (fbs)\\\n",
    "(fasting blood sugar > 120 mg/dl) (1 = true; 0 = false)\n",
    "\n",
    "X7. (restecg)\\\n",
    " resting electrocardiographic results\n",
    "-- Value 0: normal\n",
    "-- Value 1: having ST-T wave abnormality (T wave inversions and/or ST elevation or depression of > 0.05 mV)\n",
    "-- Value 2: showing probable or definite left ventricular hypertrophy by Estes' criteria\n",
    "\n",
    "X8. (thalach)\\\n",
    "maximum heart rate achieved\n",
    "\n",
    "X9. (exang)\\\n",
    "exercise induced angina (1 = yes; 0 = no)\n",
    "\n",
    "X10. (oldpeak)\\\n",
    "ST depression induced by exercise relative to rest\n",
    "\n",
    "X11. (slope)\\\n",
    "the slope of the peak exercise ST segment\n",
    "-- Value 1: upsloping\n",
    "-- Value 2: flat\n",
    "-- Value 3: downsloping\n",
    "\n",
    "X12. (ca)\\\n",
    "number of major vessels (0-3) colored by flourosopy\n",
    "\n",
    "X13. (thal)\\\n",
    "3 = normal; 6 = fixed defect; 7 = reversable defect\n",
    "\n",
    "X14. (num) (the predicted attribute)\\\n",
    "diagnosis of heart disease (angiographic disease status)\n",
    "-- Value 0: < 50% diameter narrowing\n",
    "-- Value 1: > 50% diameter narrowing\n",
    "(in any major vessel: attributes 59 through 68 are vessels)"
   ]
  },
  {
   "cell_type": "code",
   "execution_count": null,
   "id": "8b044eca",
   "metadata": {},
   "outputs": [],
   "source": []
  }
 ],
 "metadata": {
  "kernelspec": {
   "display_name": "R",
   "language": "R",
   "name": "ir"
  },
  "language_info": {
   "codemirror_mode": "r",
   "file_extension": ".r",
   "mimetype": "text/x-r-source",
   "name": "R",
   "pygments_lexer": "r",
   "version": "4.1.3"
  }
 },
 "nbformat": 4,
 "nbformat_minor": 5
}
