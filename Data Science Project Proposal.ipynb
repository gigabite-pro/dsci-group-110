{
 "cells": [
  {
   "cell_type": "markdown",
   "id": "69b58ab0-9155-4ee8-ac7a-fc4f60a1b7eb",
   "metadata": {},
   "source": [
    "# Predicting Angiographic Disease Status"
   ]
  },
  {
   "cell_type": "markdown",
   "id": "ff90bd92-e67b-410d-95b0-a4b5b854a2ce",
   "metadata": {},
   "source": [
    "# Introduction\n",
    "With the advent of globalisation, we have seen an exponential improvement in the quality of life for people globally. Inventions from plastics and the internet have revolutionised the way human society functions. With globalisation, we saw both industrialisation and innovations in food technology. But, like everything, this has positively and negatively impacted human life. \n",
    "\n",
    "In our modern times, we have witnessed exorbitant increases in the prevalence rates of diseases fueled by unhealthy lifestyles, which have long-lasting effects on people's lives.\n",
    "\n",
    "Angiographic disease refers to a condition which is associated with blood vessels and blood flow through these vessels. With this project, we are analysing the *processed.cleveland.data* file and using the data to predict the type of chest pain an individual has in the event the individual is sick.\n",
    "\n",
    "Chest pains are classified into the four following types:\n",
    "1. Typical angina\n",
    "2. Atypical angina\n",
    "3. Non-anginal pain\n",
    "4. Asymptomatic"
   ]
  },
  {
   "cell_type": "markdown",
   "id": "df7f3df1-440c-4f08-a485-464cac560db0",
   "metadata": {},
   "source": [
    "# Preliminary Exploratory Data Analysis"
   ]
  },
  {
   "cell_type": "markdown",
   "id": "ecc7d438-93f6-4b36-8cea-0317a1c0cbed",
   "metadata": {},
   "source": [
    "# Methods"
   ]
  },
  {
   "cell_type": "markdown",
   "id": "fff71d4f-1700-4a5a-9b45-bd683f296c58",
   "metadata": {},
   "source": [
    "# Expected Outcomes And Significance\n",
    "## 1. What do we expect to find?\n",
    "With our project we expect be able to predict the angeographic heart disease an individual has using the other columns as predictors\n",
    "## 2. What impact could such findings have?\n",
    "This \n",
    "## 3. What future questions could this lead to?"
   ]
  },
  {
   "cell_type": "markdown",
   "id": "e2cb8c80-d730-49b5-a596-48ebd8d4a8ed",
   "metadata": {},
   "source": [
    "# Glossary\n",
    "To help keep track of the terms that may be ambigious to the reader, we have add a glossary so that you can quickly check what different terms mean.\n",
    "\n",
    "X1. (age)\n",
    "\n",
    "X2. (sex)\\\n",
    "(1 = male; 0 = female)\n",
    "\n",
    "X3. (cp)\\\n",
    "(chest pain type)\n",
    "-- Value 1: typical angina\n",
    "-- Value 2: atypical angina\n",
    "-- Value 3: non-anginal pain\n",
    "-- Value 4: asymptomatic\n",
    "\n",
    "X4. (trestbps)\\\n",
    "resting blood pressure (in mm Hg on admission to the hospital)\n",
    "\n",
    "X5. (chol)\\\n",
    "serum cholestoral in mg/dl\n",
    "\n",
    "X6. (fbs)\\\n",
    "(fasting blood sugar > 120 mg/dl) (1 = true; 0 = false)\n",
    "\n",
    "X7. (restecg)\\\n",
    " resting electrocardiographic results\n",
    "-- Value 0: normal\n",
    "-- Value 1: having ST-T wave abnormality (T wave inversions and/or ST elevation or depression of > 0.05 mV)\n",
    "-- Value 2: showing probable or definite left ventricular hypertrophy by Estes' criteria\n",
    "\n",
    "X8. (thalach)\\\n",
    "maximum heart rate achieved\n",
    "\n",
    "X9. (exang)\\\n",
    "exercise induced angina (1 = yes; 0 = no)\n",
    "\n",
    "X10. (oldpeak)\\\n",
    "ST depression induced by exercise relative to rest\n",
    "\n",
    "X11. (slope)\\\n",
    "the slope of the peak exercise ST segment\n",
    "-- Value 1: upsloping\n",
    "-- Value 2: flat\n",
    "-- Value 3: downsloping\n",
    "\n",
    "X12. (ca)\\\n",
    "number of major vessels (0-3) colored by flourosopy\n",
    "\n",
    "X13. (thal)\\\n",
    "3 = normal; 6 = fixed defect; 7 = reversable defect\n",
    "\n",
    "X14. (num) (the predicted attribute)\\\n",
    "diagnosis of heart disease (angiographic disease status)\n",
    "-- Value 0: < 50% diameter narrowing\n",
    "-- Value 1: > 50% diameter narrowing\n",
    "(in any major vessel: attributes 59 through 68 are vessels)"
   ]
  },
  {
   "cell_type": "code",
   "execution_count": 15,
   "id": "24b5cca5-716f-435f-8a39-483fb2f2f542",
   "metadata": {},
   "outputs": [],
   "source": [
    "# Importing Necessary Libraries\n",
    "library(tidyverse)\n",
    "# library(testthat)\n",
    "# library(digest)\n",
    "# library(repr)\n",
    "# library(tidymodels)\n",
    "\n",
    "\n",
    "# To make the code cleaner to easy to read\n",
    "# options(repr.matrix.max.rows = 6)"
   ]
  },
  {
   "cell_type": "code",
   "execution_count": 10,
   "id": "965c4b12-bf6a-45df-88f5-6261d694d998",
   "metadata": {},
   "outputs": [
    {
     "ename": "ERROR",
     "evalue": "Error in read_csv(url, col_names = FALSE): could not find function \"read_csv\"\n",
     "output_type": "error",
     "traceback": [
      "Error in read_csv(url, col_names = FALSE): could not find function \"read_csv\"\nTraceback:\n"
     ]
    }
   ],
   "source": [
    "# Loadind Data\n",
    "url <- \"https://archive.ics.uci.edu/ml/machine-learning-databases/heart-disease/processed.cleveland.data\"\n",
    "heart_disease_data <- read_csv(url, \n",
    "                               col_names = FALSE)\n",
    "\n",
    "# Covering Data Frame To Tibble\n",
    "heart_disease_data <- as_tibble(heart_disease_data)\n",
    "\n",
    "# Checking Data\n",
    "heart_disease_data"
   ]
  },
  {
   "cell_type": "code",
   "execution_count": 35,
   "id": "cc634800-b7c5-4c01-92f0-b73c5c56dd36",
   "metadata": {},
   "outputs": [
    {
     "data": {
      "text/html": [
       "<table class=\"dataframe\">\n",
       "<caption>A tibble: 303 × 14</caption>\n",
       "<thead>\n",
       "\t<tr><th scope=col>age</th><th scope=col>sex</th><th scope=col>cp</th><th scope=col>trestbps</th><th scope=col>chol</th><th scope=col>fbs</th><th scope=col>restecg</th><th scope=col>thalach</th><th scope=col>exang</th><th scope=col>oldpeak</th><th scope=col>slope</th><th scope=col>ca</th><th scope=col>thal</th><th scope=col>num</th></tr>\n",
       "\t<tr><th scope=col>&lt;dbl&gt;</th><th scope=col>&lt;fct&gt;</th><th scope=col>&lt;fct&gt;</th><th scope=col>&lt;dbl&gt;</th><th scope=col>&lt;dbl&gt;</th><th scope=col>&lt;fct&gt;</th><th scope=col>&lt;fct&gt;</th><th scope=col>&lt;dbl&gt;</th><th scope=col>&lt;fct&gt;</th><th scope=col>&lt;dbl&gt;</th><th scope=col>&lt;fct&gt;</th><th scope=col>&lt;fct&gt;</th><th scope=col>&lt;fct&gt;</th><th scope=col>&lt;fct&gt;</th></tr>\n",
       "</thead>\n",
       "<tbody>\n",
       "\t<tr><td>63</td><td>1</td><td>1</td><td>145</td><td>233</td><td>1</td><td>2</td><td>150</td><td>0</td><td>2.3</td><td>3</td><td>0.0</td><td>6.0</td><td>0</td></tr>\n",
       "\t<tr><td>67</td><td>1</td><td>4</td><td>160</td><td>286</td><td>0</td><td>2</td><td>108</td><td>1</td><td>1.5</td><td>2</td><td>3.0</td><td>3.0</td><td>2</td></tr>\n",
       "\t<tr><td>67</td><td>1</td><td>4</td><td>120</td><td>229</td><td>0</td><td>2</td><td>129</td><td>1</td><td>2.6</td><td>2</td><td>2.0</td><td>7.0</td><td>1</td></tr>\n",
       "\t<tr><td>⋮</td><td>⋮</td><td>⋮</td><td>⋮</td><td>⋮</td><td>⋮</td><td>⋮</td><td>⋮</td><td>⋮</td><td>⋮</td><td>⋮</td><td>⋮</td><td>⋮</td><td>⋮</td></tr>\n",
       "\t<tr><td>57</td><td>1</td><td>4</td><td>130</td><td>131</td><td>0</td><td>0</td><td>115</td><td>1</td><td>1.2</td><td>2</td><td>1.0</td><td>7.0</td><td>3</td></tr>\n",
       "\t<tr><td>57</td><td>0</td><td>2</td><td>130</td><td>236</td><td>0</td><td>2</td><td>174</td><td>0</td><td>0.0</td><td>2</td><td>1.0</td><td>3.0</td><td>1</td></tr>\n",
       "\t<tr><td>38</td><td>1</td><td>3</td><td>138</td><td>175</td><td>0</td><td>0</td><td>173</td><td>0</td><td>0.0</td><td>1</td><td>?  </td><td>3.0</td><td>0</td></tr>\n",
       "</tbody>\n",
       "</table>\n"
      ],
      "text/latex": [
       "A tibble: 303 × 14\n",
       "\\begin{tabular}{llllllllllllll}\n",
       " age & sex & cp & trestbps & chol & fbs & restecg & thalach & exang & oldpeak & slope & ca & thal & num\\\\\n",
       " <dbl> & <fct> & <fct> & <dbl> & <dbl> & <fct> & <fct> & <dbl> & <fct> & <dbl> & <fct> & <fct> & <fct> & <fct>\\\\\n",
       "\\hline\n",
       "\t 63 & 1 & 1 & 145 & 233 & 1 & 2 & 150 & 0 & 2.3 & 3 & 0.0 & 6.0 & 0\\\\\n",
       "\t 67 & 1 & 4 & 160 & 286 & 0 & 2 & 108 & 1 & 1.5 & 2 & 3.0 & 3.0 & 2\\\\\n",
       "\t 67 & 1 & 4 & 120 & 229 & 0 & 2 & 129 & 1 & 2.6 & 2 & 2.0 & 7.0 & 1\\\\\n",
       "\t ⋮ & ⋮ & ⋮ & ⋮ & ⋮ & ⋮ & ⋮ & ⋮ & ⋮ & ⋮ & ⋮ & ⋮ & ⋮ & ⋮\\\\\n",
       "\t 57 & 1 & 4 & 130 & 131 & 0 & 0 & 115 & 1 & 1.2 & 2 & 1.0 & 7.0 & 3\\\\\n",
       "\t 57 & 0 & 2 & 130 & 236 & 0 & 2 & 174 & 0 & 0.0 & 2 & 1.0 & 3.0 & 1\\\\\n",
       "\t 38 & 1 & 3 & 138 & 175 & 0 & 0 & 173 & 0 & 0.0 & 1 & ?   & 3.0 & 0\\\\\n",
       "\\end{tabular}\n"
      ],
      "text/markdown": [
       "\n",
       "A tibble: 303 × 14\n",
       "\n",
       "| age &lt;dbl&gt; | sex &lt;fct&gt; | cp &lt;fct&gt; | trestbps &lt;dbl&gt; | chol &lt;dbl&gt; | fbs &lt;fct&gt; | restecg &lt;fct&gt; | thalach &lt;dbl&gt; | exang &lt;fct&gt; | oldpeak &lt;dbl&gt; | slope &lt;fct&gt; | ca &lt;fct&gt; | thal &lt;fct&gt; | num &lt;fct&gt; |\n",
       "|---|---|---|---|---|---|---|---|---|---|---|---|---|---|\n",
       "| 63 | 1 | 1 | 145 | 233 | 1 | 2 | 150 | 0 | 2.3 | 3 | 0.0 | 6.0 | 0 |\n",
       "| 67 | 1 | 4 | 160 | 286 | 0 | 2 | 108 | 1 | 1.5 | 2 | 3.0 | 3.0 | 2 |\n",
       "| 67 | 1 | 4 | 120 | 229 | 0 | 2 | 129 | 1 | 2.6 | 2 | 2.0 | 7.0 | 1 |\n",
       "| ⋮ | ⋮ | ⋮ | ⋮ | ⋮ | ⋮ | ⋮ | ⋮ | ⋮ | ⋮ | ⋮ | ⋮ | ⋮ | ⋮ |\n",
       "| 57 | 1 | 4 | 130 | 131 | 0 | 0 | 115 | 1 | 1.2 | 2 | 1.0 | 7.0 | 3 |\n",
       "| 57 | 0 | 2 | 130 | 236 | 0 | 2 | 174 | 0 | 0.0 | 2 | 1.0 | 3.0 | 1 |\n",
       "| 38 | 1 | 3 | 138 | 175 | 0 | 0 | 173 | 0 | 0.0 | 1 | ?   | 3.0 | 0 |\n",
       "\n"
      ],
      "text/plain": [
       "    age sex cp trestbps chol fbs restecg thalach exang oldpeak slope ca  thal\n",
       "1   63  1   1  145      233  1   2       150     0     2.3     3     0.0 6.0 \n",
       "2   67  1   4  160      286  0   2       108     1     1.5     2     3.0 3.0 \n",
       "3   67  1   4  120      229  0   2       129     1     2.6     2     2.0 7.0 \n",
       "⋮   ⋮   ⋮   ⋮  ⋮        ⋮    ⋮   ⋮       ⋮       ⋮     ⋮       ⋮     ⋮   ⋮   \n",
       "301 57  1   4  130      131  0   0       115     1     1.2     2     1.0 7.0 \n",
       "302 57  0   2  130      236  0   2       174     0     0.0     2     1.0 3.0 \n",
       "303 38  1   3  138      175  0   0       173     0     0.0     1     ?   3.0 \n",
       "    num\n",
       "1   0  \n",
       "2   2  \n",
       "3   1  \n",
       "⋮   ⋮  \n",
       "301 3  \n",
       "302 1  \n",
       "303 0  "
      ]
     },
     "metadata": {},
     "output_type": "display_data"
    }
   ],
   "source": [
    "# Preprocessing Of Data\n",
    "heart_disease_data <-   heart_disease_data |>\n",
    "                        mutate(X2  = as.factor(X2) ,\n",
    "                               X3  = as.factor(X3) ,\n",
    "                               X6  = as.factor(X6) ,\n",
    "                               X7  = as.factor(X7) ,\n",
    "                               X9  = as.factor(X9) ,\n",
    "                               X11 = as.factor(X11),\n",
    "                               X12 = as.factor(X12),\n",
    "                               X13 = as.factor(X13),\n",
    "                               X14 = as.factor(X14))\n",
    "\n",
    "# Renaming Columns\n",
    "names <- c(\"age\",\"sex\",\"cp\",\"trestbps\",\"chol\",\"fbs\",\"restecg\",\"thalach\",\"exang\",\"oldpeak\",\"slope\",\"ca\",\"thal\",\"num\")\n",
    "\n",
    "colnames(heart_disease_data) <- make.names(names)\n",
    "\n",
    "heart_disease_data"
   ]
  },
  {
   "cell_type": "code",
   "execution_count": 8,
   "id": "1a1bb6e5-9245-45c9-b4c4-4ded9277172d",
   "metadata": {},
   "outputs": [
    {
     "ename": "ERROR",
     "evalue": "Error in initial_split(heart_disease_data, prop = 0.75, strata = \"num\"): could not find function \"initial_split\"\n",
     "output_type": "error",
     "traceback": [
      "Error in initial_split(heart_disease_data, prop = 0.75, strata = \"num\"): could not find function \"initial_split\"\nTraceback:\n"
     ]
    }
   ],
   "source": [
    "#Splitting\n",
    "set.seed(45768)\n",
    "heart_disease_data_split<-initial_split(heart_disease_data,prop=.75,strata=\"num\")\n",
    "training_data<-training(heart_disease_data_split)\n",
    "testing_data<-testing(heart_disease_data_split)"
   ]
  },
  {
   "cell_type": "code",
   "execution_count": 36,
   "id": "f2a917ab-e94b-4fbc-8794-64c7a0e9a2e8",
   "metadata": {},
   "outputs": [],
   "source": [
    "# Visualizations"
   ]
  },
  {
   "cell_type": "code",
   "execution_count": 32,
   "id": "55b883fa-a4ef-4f8b-9a65-33d4c49885ff",
   "metadata": {},
   "outputs": [],
   "source": [
    "# Classifications"
   ]
  },
  {
   "cell_type": "code",
   "execution_count": 33,
   "id": "360b8eff-08dc-470c-952d-78e3f48994d7",
   "metadata": {},
   "outputs": [],
   "source": [
    "# Regressions"
   ]
  },
  {
   "cell_type": "code",
   "execution_count": null,
   "id": "86deb61c-f471-4a81-9e6e-6c4cc797ee60",
   "metadata": {},
   "outputs": [],
   "source": []
  }
 ],
 "metadata": {
  "kernelspec": {
   "display_name": "R",
   "language": "R",
   "name": "ir"
  },
  "language_info": {
   "codemirror_mode": "r",
   "file_extension": ".r",
   "mimetype": "text/x-r-source",
   "name": "R",
   "pygments_lexer": "r",
   "version": "4.1.3"
  }
 },
 "nbformat": 4,
 "nbformat_minor": 5
}
