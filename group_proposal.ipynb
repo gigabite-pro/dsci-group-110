{
 "cells": [
  {
   "cell_type": "markdown",
   "id": "c175d972-4c5a-4bd6-a9ee-956786f46222",
   "metadata": {},
   "source": [
    "# Discussion\n",
    "\n",
    "## Expected Outcomes\n",
    "\n",
    "We expected to find strong correlations between our predictors and the chest pain an indidual is likely to expirience. This was because the cardiovascular diseases often come about due to certain factors and always characteristics that accompany them.\n",
    "\n",
    "## Summary And Explainations\n",
    "\n",
    "The classification model above has a $60\\%$ chance of predicting the correct type of chest pain a person may be experiencing. We came up with two possible explanations for the this. To test individual correlation between predictors and tyope of chest pain the classification model was subsequently tested individually with each of the predictor variable and still yielded similar accuracies. We have considered several possibilities to explain these low accuracies:\n",
    "1. The low accuracy can be explained by considering a possibility that there is not enough data for the model to base predictions on as our training data only contains about 80 observations.\n",
    "2. We think there may be a possibility that the kind of heart pain an individual is likely to expirience is difficult to determine irrespective of the methods applied, and has the possibility to depend on the genetic composition of the individual as defines the physiological compositions of the person and that determines kind of pain they expirience. \n",
    "3. A third possibility we have considered is that pain is a subjective psychological expirience and different people have diiferent perceptions of similar painful stimuli and therefore, they kind of pain they expirience is likely to be different as well.\n",
    "\n",
    "## Impacts\n",
    "Improved model accuracy can help with faster detection of the type of chest pain and help admisiter proper treatment to the patient in time, preventing any uncessary harm to their wellbeing. The model can also be used to study how the type of chest pain varies with different factors and can assist doctors and scientists to get more information about the same.\n",
    "\n",
    "## Possible Question"
   ]
  },
  {
   "cell_type": "code",
   "execution_count": null,
   "id": "bf9b68cf-0bcc-4aa4-be16-69c43f21be20",
   "metadata": {},
   "outputs": [],
   "source": []
  }
 ],
 "metadata": {
  "kernelspec": {
   "display_name": "R",
   "language": "R",
   "name": "ir"
  },
  "language_info": {
   "codemirror_mode": "r",
   "file_extension": ".r",
   "mimetype": "text/x-r-source",
   "name": "R",
   "pygments_lexer": "r",
   "version": "4.1.3"
  }
 },
 "nbformat": 4,
 "nbformat_minor": 5
}
