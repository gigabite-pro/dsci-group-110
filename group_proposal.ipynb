{
 "cells": [
  {
   "cell_type": "code",
   "execution_count": null,
   "id": "d8f559d6-6709-4cf3-8c9d-23ee26e37325",
   "metadata": {},
   "outputs": [],
   "source": [
    "Hi. This is the group proposal notebook."
   ]
  }
 ],
 "metadata": {
  "kernelspec": {
   "display_name": "R",
   "language": "R",
   "name": "ir"
  },
  "language_info": {
   "codemirror_mode": "r",
   "file_extension": ".r",
   "mimetype": "text/x-r-source",
   "name": "R",
   "pygments_lexer": "r",
   "version": "4.1.3"
  }
 },
 "nbformat": 4,
 "nbformat_minor": 5
}
