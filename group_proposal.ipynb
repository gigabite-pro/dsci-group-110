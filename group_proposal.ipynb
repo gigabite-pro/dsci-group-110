{
 "cells": [
  {
   "cell_type": "markdown",
   "id": "c175d972-4c5a-4bd6-a9ee-956786f46222",
   "metadata": {},
   "source": [
    "# Discussion\n",
    "\n",
    "The our classification model above has a $60\\%$ chance of predicting the correct tyope of chest pain a person may be expirienceing. We came up with two possible explainations for the this. The low accuracy can be explained by considering a possibility that there is not enough data for the model to base predictions on as our training data only contains about 80 observations. Another possible case that may explain the low accuracy of our model can be explained by the following observations: The classification model was subsequently tested individually with each of the predictor variable and still yielded similar accuracies. We think there may be a possibility that the kind of heart pain an individual is likely to expirience is difficult to determine irrespective of the methods applied, and has the possibility to depend on the genetic composition of the individual as defines the physiological compositions of the person and that determines kind of pain they expirience. A third possibility we have considered is that pain is a subjective psychological expirience and different people have diiferent perceptions of similar painful stimuli and therefore, they kind of pain they expirience is likely to be different as well."
   ]
  }
 ],
 "metadata": {
  "kernelspec": {
   "display_name": "R",
   "language": "R",
   "name": "ir"
  },
  "language_info": {
   "codemirror_mode": "r",
   "file_extension": ".r",
   "mimetype": "text/x-r-source",
   "name": "R",
   "pygments_lexer": "r",
   "version": "4.1.3"
  }
 },
 "nbformat": 4,
 "nbformat_minor": 5
}
