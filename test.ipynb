{
 "cells": [
  {
   "cell_type": "markdown",
   "id": "a4ded350-7a21-40fa-93ee-0f3633f4bdeb",
   "metadata": {},
   "source": [
    "efwyugrbdjknlfgk"
   ]
  },
  {
   "cell_type": "code",
   "execution_count": null,
   "id": "32e55a61-fe74-41b9-8efb-bc9f64fc1729",
   "metadata": {},
   "outputs": [],
   "source": []
  }
 ],
 "metadata": {
  "kernelspec": {
   "display_name": "R",
   "language": "R",
   "name": "ir"
  },
  "language_info": {
   "codemirror_mode": "r",
   "file_extension": ".r",
   "mimetype": "text/x-r-source",
   "name": "R",
   "pygments_lexer": "r",
   "version": "4.1.3"
  }
 },
 "nbformat": 4,
 "nbformat_minor": 5
}
